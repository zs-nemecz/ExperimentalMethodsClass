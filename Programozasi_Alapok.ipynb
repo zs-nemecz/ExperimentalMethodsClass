{
  "nbformat": 4,
  "nbformat_minor": 0,
  "metadata": {
    "colab": {
      "name": "Programozasi_Alapok.ipynb",
      "provenance": [],
      "authorship_tag": "ABX9TyNWP79glGXpiKBLTIQ9khku",
      "include_colab_link": true
    },
    "kernelspec": {
      "name": "python3",
      "display_name": "Python 3"
    }
  },
  "cells": [
    {
      "cell_type": "markdown",
      "metadata": {
        "id": "view-in-github",
        "colab_type": "text"
      },
      "source": [
        "<a href=\"https://colab.research.google.com/github/zs-nemecz/ExperimentalMethodsClass/blob/master/Programozasi_Alapok.ipynb\" target=\"_parent\"><img src=\"https://colab.research.google.com/assets/colab-badge.svg\" alt=\"Open In Colab\"/></a>"
      ]
    },
    {
      "cell_type": "markdown",
      "metadata": {
        "id": "o1cf2ZQWyV74"
      },
      "source": [
        "#Programozási Alapok \n",
        "##Kísérletezés módszertana 2020/02\n",
        "Oktató: Nemecz Zsuzsanna\n",
        "\n",
        "Neptun kód: PSZB17-132:1\n",
        "\n",
        "## Mi az a Google Colab Notebook?\n",
        "Böngészőben írható, szerkeszthető és futtatható Python file.\n",
        "Előnyei:\n",
        "*   Nem szükséges külső szoftvert installálni, konfigurálni\n",
        "*   Könnyen megosztható kód\n",
        "*   Szöveg és kód vegyítése\n",
        "*   A Google grafikus processzorainak (GPU) használata\n",
        "\n",
        "##Hogyan kell ezt a Notebook-ot használni?\n",
        "\n",
        "*   Kód blokk beszúrása: **Ctrl M B**  billentyűk vagy **+ Code** gomb a bal felső sarokban\n",
        "*   Szöveg blokk beszúrása: **+ Text** gomb a bal felső sarokban\n",
        "*   Kód futtatása: **Shift Enter**\n",
        "*   Szöveg blokk szerkesztése: dupla kattintás\n",
        "\n",
        "\n",
        "\n"
      ]
    },
    {
      "cell_type": "code",
      "metadata": {
        "id": "NftlmOSvyGyI"
      },
      "source": [
        "# A programozási nyelvek elsajátításakor tipikusan az első program a 'Hello World!' \n",
        "# Kattints erre a blokkra, nyomd le a Shift Entert, és figyeld meg, mi történik.\n",
        "print('Hello World!')"
      ],
      "execution_count": null,
      "outputs": []
    },
    {
      "cell_type": "markdown",
      "metadata": {
        "id": "Z3uyLXseKr0_"
      },
      "source": [
        "Pythonban #-tel jelöljük azokat a sorokat, amelyek csak az emberi olvasónak szánt üzenetek.\n",
        "Eeket a sorokat a gép nem próbálja meg végrehajtani.\n",
        "Próbáld meg lefuttatni az alábbi kódblokkot! Mi történik?"
      ]
    },
    {
      "cell_type": "code",
      "metadata": {
        "id": "8uQMwMHGKP2t"
      },
      "source": [
        "# print('Lefut a kód?')"
      ],
      "execution_count": null,
      "outputs": []
    },
    {
      "cell_type": "markdown",
      "metadata": {
        "id": "bPdgAZ8f5DLK"
      },
      "source": [
        "##Változók és változó típusok"
      ]
    },
    {
      "cell_type": "code",
      "metadata": {
        "id": "qF7CduDQ5MPi"
      },
      "source": [
        "szoveg = 'Hello World!' #string\n",
        "egesz_szam = 1 #integer\n",
        "tort_szam = 0.5 #float\n",
        "igaz_hamis = True #boolean (0, 1) \n",
        "print(szoveg) "
      ],
      "execution_count": null,
      "outputs": []
    },
    {
      "cell_type": "code",
      "metadata": {
        "id": "XVrGHbLfeDxv"
      },
      "source": [
        "# A stringek Pythonban összevonhatóak\n",
        "a = 'alma'\n",
        "b = 'finom ' + a\n",
        "print(b)"
      ],
      "execution_count": null,
      "outputs": []
    },
    {
      "cell_type": "code",
      "metadata": {
        "id": "YoKqybuddyVS"
      },
      "source": [
        "# Egy egyszerű adatstruktúra típus: listák \n",
        "# A listák Pythonban több típust is tartalmazhatnak\n",
        "lista = ['alma', 3, False, 'kutya', 0.006] #list\n",
        "# A lista egyes elemeit kiválaszthatjuk az megfelelő indexszel\n",
        "a = lista[0]\n",
        "b = lista[-1]\n",
        "print('Az első elem:', a)\n",
        "print('Az utolsó elem:', b)"
      ],
      "execution_count": null,
      "outputs": []
    },
    {
      "cell_type": "markdown",
      "metadata": {
        "id": "DLRRlbji6TTY"
      },
      "source": [
        "##Operátorok"
      ]
    },
    {
      "cell_type": "code",
      "metadata": {
        "id": "H3uO-Z1l6YqD"
      },
      "source": [
        "## Aritmetikai operátorok: *,/,+,-,%, //, **\n",
        "a = 3\n",
        "b = 7\n",
        "\n",
        "c = b % a\n",
        "print(c)"
      ],
      "execution_count": null,
      "outputs": []
    },
    {
      "cell_type": "code",
      "metadata": {
        "id": "feVAPOfjKiuQ"
      },
      "source": [
        "## Összehasonlító operátorok: >, <, ==, !=, >=, <=\n",
        "c = a!=b\n",
        "print(c)"
      ],
      "execution_count": null,
      "outputs": []
    },
    {
      "cell_type": "code",
      "metadata": {
        "id": "d3G9B_9VL9re"
      },
      "source": [
        "# Logikai operátorok: and, or, not\n",
        "c = a > 5 or b > 5\n",
        "print(c)"
      ],
      "execution_count": null,
      "outputs": []
    },
    {
      "cell_type": "markdown",
      "metadata": {
        "id": "IDhSr4Fh6GUs"
      },
      "source": [
        "##Funkciók és metódusok"
      ]
    },
    {
      "cell_type": "code",
      "metadata": {
        "id": "GEzBgxn75ckU"
      },
      "source": [
        "## Beépített funkciók - példák\n",
        "print('Ez a kiíró funkció.') #kiíró funkció\n",
        "\n",
        "a = abs(-5) # abszolút értéket vesz\n",
        "print('A szám abszolút értéke:', a)\n",
        "\n",
        "b = bool(0) # igaz-hamisra fordít\n",
        "print('A szám igaz-hamis értékként', b)\n",
        "\n",
        "c = chr(65) #ASCII értékről karakterre fordít\n",
        "print('A szám karakterként:', c)\n",
        "\n",
        "lista = [0,4,6,8,1,5,15] \n",
        "l = len(lista)\n",
        "print('A lista hossza:', l)"
      ],
      "execution_count": null,
      "outputs": []
    },
    {
      "cell_type": "code",
      "metadata": {
        "id": "fAAWuibLHW5c"
      },
      "source": [
        "## Metódusok - példák\n",
        "# Egy object-hez, class-hoz tartozó funkció. A clas/object adott 'egyedén' lehet meghívni. \n",
        "\n",
        "#Lista metódusok - csak listán meghívható funkciók\n",
        "lista = [0,4,6,8,1,8,5,15,8]\n",
        "lista.sort() # sorba rendezés\n",
        "print('A lista sorba rendezve', lista)\n",
        "nyolcasok_szama= lista.count(8)\n",
        "print('Nyolcasok száma: {}'.format(nyolcasok_szama))\n",
        "\n",
        "#Karakterlánc (string) metódusok - csak karakterláncon meghívható funkciók\n",
        "szoveg = 'hello kedves diak'\n",
        "print('Nagybetűvel:', szoveg.upper())\n",
        "szoveg_reszek= szoveg.split(' ')\n",
        "print(szoveg_reszek)"
      ],
      "execution_count": null,
      "outputs": []
    },
    {
      "cell_type": "code",
      "metadata": {
        "id": "-nxenfapOrV2"
      },
      "source": [
        "# Saját funkciók definiálása\n",
        "def sajat_funkcio(bemenet): #a bemenet az input vagy argumanet\n",
        "  '''Ez a funkció megduplázza a bemenetként megadott számot és kivon belőle hármat'''\n",
        "  kimenet = (bemenet * 2) - 3\n",
        "  \n",
        "  return kimenet"
      ],
      "execution_count": null,
      "outputs": []
    },
    {
      "cell_type": "code",
      "metadata": {
        "id": "qpOxxM5vP6Tq"
      },
      "source": [
        "sajat_funkcio(100)"
      ],
      "execution_count": null,
      "outputs": []
    },
    {
      "cell_type": "markdown",
      "metadata": {
        "id": "U7yTsHvMEkxZ"
      },
      "source": [
        "##Csomagok, modulok és könyvtárak\n",
        "Speciális 'eszközöket' tartalmazó funkció és objektum csomagok, amelyeket egy bizonyos cél vagy terület szükségleteinek megfelelően fejlesztenek ki, például adatábrázolás (pl. matplotlib), adattábla- és adatkezelés (pl. pandas), időzítés (time). "
      ]
    },
    {
      "cell_type": "code",
      "metadata": {
        "id": "pXh6gtX9Enlu"
      },
      "source": [
        "import matplotlib.pyplot as plt # a könyvtár importálása\n",
        "\n",
        "x = [1,2,3,4,5,6,7,8,9]\n",
        "y = [12,14,23,34,35,45,51,56,63]\n",
        "plt.plot(x,y, '*')\n",
        "plt.show()"
      ],
      "execution_count": null,
      "outputs": []
    },
    {
      "cell_type": "code",
      "metadata": {
        "id": "YGULKXSkE3U7"
      },
      "source": [
        "import numpy as np \n",
        "# Átlag\n",
        "adatsor = [1.5, 3,3, 2.5, 2.7, 3.1, 1.5, 13.9, 3.7, 2.2, 3.8, 0.6, 1.5,4.3,5.2, 10.2, 10.6, 13.1,]\n",
        "atlag = np.mean(adatsor)\n",
        "print('Átlag:', atlag)"
      ],
      "execution_count": null,
      "outputs": []
    },
    {
      "cell_type": "markdown",
      "metadata": {
        "id": "aPFBcZtTHH6Z"
      },
      "source": [
        "## Hurkok (loops) és folyamat-kontrol"
      ]
    },
    {
      "cell_type": "code",
      "metadata": {
        "id": "bcQUNQ1sHQUM"
      },
      "source": [
        "# For loop: 'Elemenkénti' hurok\n",
        "lista = ['béka', 0.5, 23, 'c', 'lépcső', False]\n",
        "for i in lista:\n",
        "  print(i)"
      ],
      "execution_count": null,
      "outputs": []
    },
    {
      "cell_type": "code",
      "metadata": {
        "id": "1LZYSBqAI-KR"
      },
      "source": [
        "# While loop: 'Ameddig' hurok\n",
        "szamlalo = 0\n",
        "while szamlalo < 3:\n",
        "  print('szerda')\n",
        "  szamlalo = szamlalo + 1"
      ],
      "execution_count": null,
      "outputs": []
    },
    {
      "cell_type": "code",
      "metadata": {
        "id": "D63CjUoqJOpm"
      },
      "source": [
        "# If statement: Ha-Akkor állítás\n",
        "a = 7\n",
        "if a > 10:\n",
        "  print('Ez a szám nagyobb mint 10.')\n",
        "elif a == 10:\n",
        "  print('Ez a szám egyenlő tízzel.')\n",
        "else:\n",
        "  print('Ez a szám kisebb, mint 10.')"
      ],
      "execution_count": null,
      "outputs": []
    },
    {
      "cell_type": "code",
      "metadata": {
        "id": "JkX1nnXhrJiW"
      },
      "source": [
        ""
      ],
      "execution_count": null,
      "outputs": []
    }
  ]
}