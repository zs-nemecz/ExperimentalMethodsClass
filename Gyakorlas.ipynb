{
  "nbformat": 4,
  "nbformat_minor": 0,
  "metadata": {
    "colab": {
      "name": "Gyakorlas.ipynb",
      "provenance": [],
      "collapsed_sections": [],
      "authorship_tag": "ABX9TyP46rMJ7GvV7BvXCHvup/O3",
      "include_colab_link": true
    },
    "kernelspec": {
      "name": "python3",
      "display_name": "Python 3"
    }
  },
  "cells": [
    {
      "cell_type": "markdown",
      "metadata": {
        "id": "view-in-github",
        "colab_type": "text"
      },
      "source": [
        "<a href=\"https://colab.research.google.com/github/zs-nemecz/ExperimentalMethodsClass/blob/master/Gyakorlas.ipynb\" target=\"_parent\"><img src=\"https://colab.research.google.com/assets/colab-badge.svg\" alt=\"Open In Colab\"/></a>"
      ]
    },
    {
      "cell_type": "markdown",
      "metadata": {
        "id": "Iv6Abbm6w15E",
        "colab_type": "text"
      },
      "source": [
        "## 1. feladat: Változók és műveletek"
      ]
    },
    {
      "cell_type": "markdown",
      "metadata": {
        "id": "mcqW-obK53Mq",
        "colab_type": "text"
      },
      "source": [
        "A)"
      ]
    },
    {
      "cell_type": "code",
      "metadata": {
        "id": "mAXlU1djw-DQ",
        "colab_type": "code",
        "colab": {}
      },
      "source": [
        "# csinálj egy változót, amelynek neve a, értéke 5\n",
        "a = ??\n",
        "# csinálj egy változót, melynek neve b, értéke 4\n",
        "b = ??\n",
        "# a c változó legyen a és b szorzata\n",
        "c = ??\n",
        "# írasd ki az eredményt (a c változót) a print funkcióval\n",
        "print(??)"
      ],
      "execution_count": 0,
      "outputs": []
    },
    {
      "cell_type": "markdown",
      "metadata": {
        "id": "WydgpZR258PP",
        "colab_type": "text"
      },
      "source": [
        "B)"
      ]
    },
    {
      "cell_type": "code",
      "metadata": {
        "colab_type": "code",
        "id": "B5QWix-o5Zk2",
        "colab": {}
      },
      "source": [
        "# csinálj egy változót, amelynek neve x, értéke 100\n",
        "???\n",
        "# csinálj egy változót, melynek neve y, értéke 29\n",
        "???\n",
        "# a z változó legyen x és y összege\n",
        "???\n",
        "# írasd ki az eredményt (a z változót) a print funkcióval\n",
        "???"
      ],
      "execution_count": 0,
      "outputs": []
    },
    {
      "cell_type": "markdown",
      "metadata": {
        "id": "vpaaqsFb6Bu-",
        "colab_type": "text"
      },
      "source": [
        "C)"
      ]
    },
    {
      "cell_type": "code",
      "metadata": {
        "id": "pJcGx0BJ6D--",
        "colab_type": "code",
        "colab": {}
      },
      "source": [
        "# hozz létre egy maradek nevű változót, értéke legyen az a szám, amit maradékul kapunk, ha x változót elosztjuk y változóval\n",
        "# emlékezz, hogy van egy speciális művelet, a modulus (%), ami segíthet ebben\n",
        "maradek = ??\n",
        "# írasd ki az eredményt (a maradek változó értékét)\n",
        "???"
      ],
      "execution_count": 0,
      "outputs": []
    },
    {
      "cell_type": "markdown",
      "metadata": {
        "id": "qniHiBJE8hTn",
        "colab_type": "text"
      },
      "source": [
        "E)"
      ]
    },
    {
      "cell_type": "code",
      "metadata": {
        "id": "pnygZAFW6o9e",
        "colab_type": "code",
        "colab": {}
      },
      "source": [
        "# hozz létre egy e nevű változót, értéke legyen az a szám, ahányszor x maradék nélkül osztható y változóval\n",
        "# emlékezz, hogy van egy speciális művelet (//), ami segíthet ebben\n",
        "e = ??\n",
        "# ellenőrizd az eredményt a print funkcióval\n",
        "???"
      ],
      "execution_count": 0,
      "outputs": []
    },
    {
      "cell_type": "markdown",
      "metadata": {
        "id": "E44lR0w38kY_",
        "colab_type": "text"
      },
      "source": [
        "F)"
      ]
    },
    {
      "cell_type": "code",
      "metadata": {
        "id": "1Sp-HFlI8m9A",
        "colab_type": "code",
        "colab": {}
      },
      "source": [
        "# szorozd össze az e változót az y változóval, majd add hozzá maradek változót. tárold ezt az értéket az f változóban\n",
        "f = ??\n",
        "# hogyan tudod ellenőrizni, hogy ez az érték (f) egyenlő az x változó értékével?\n",
        "x ?? f"
      ],
      "execution_count": 0,
      "outputs": []
    },
    {
      "cell_type": "markdown",
      "metadata": {
        "id": "PH8bVx0-0K0T",
        "colab_type": "text"
      },
      "source": [
        "## 2. feladat: Karakterláncok "
      ]
    },
    {
      "cell_type": "markdown",
      "metadata": {
        "id": "toitAkW1-mCg",
        "colab_type": "text"
      },
      "source": [
        "A)"
      ]
    },
    {
      "cell_type": "code",
      "metadata": {
        "id": "_DRDqn2w0Sb2",
        "colab_type": "code",
        "colab": {}
      },
      "source": [
        "# a nev változó értéke legyen a neved, majd futtasd le ezt a cellát (ne felejtsd el a neved idézőjelek közé tenni)\n",
        "# mi történik és miért?\n",
        "hello = 'Szia '\n",
        "nev = ???\n",
        "udvozles = hello + nev\n",
        "print(udvozles)"
      ],
      "execution_count": 0,
      "outputs": []
    },
    {
      "cell_type": "markdown",
      "metadata": {
        "id": "dKkxsBBE-p64",
        "colab_type": "text"
      },
      "source": [
        "B)"
      ]
    },
    {
      "cell_type": "code",
      "metadata": {
        "id": "jnnpuuLf1MSe",
        "colab_type": "code",
        "colab": {}
      },
      "source": [
        "# a karakterláncok egyes elemeit külön is el tudom érni, ha a megfelelő index-számmal hivatkozom rájuk. a számlálás Pythonban 0-val kezdődik, így az első elem indexe nulla\n",
        "# legyen egy karakterláncom, amely a macskám neve\n",
        "macska_neve = 'Cirmos'\n",
        "# az első(nulladik) betűjét tehát így tudom elérni\n",
        "elso_karakter = macska_neve[0] \n",
        "print(elso_karakter)"
      ],
      "execution_count": 0,
      "outputs": []
    },
    {
      "cell_type": "markdown",
      "metadata": {
        "id": "rWbHS1gI-r3Q",
        "colab_type": "text"
      },
      "source": [
        "C)"
      ]
    },
    {
      "cell_type": "code",
      "metadata": {
        "id": "GXlfGSxG3QXd",
        "colab_type": "code",
        "colab": {}
      },
      "source": [
        "# csinálj egy változót, melynek a neve masodik_karakter, és legyen az értéke a macska_neve második karaktere\n",
        "masodik_karakter = ??\n",
        "# ellenőrizd a megoldást úgy, hogy kiiratod a masodik_karakter változót\n",
        "print(??)"
      ],
      "execution_count": 0,
      "outputs": []
    },
    {
      "cell_type": "markdown",
      "metadata": {
        "id": "V159FSfO_BqU",
        "colab_type": "text"
      },
      "source": [
        "D)"
      ]
    },
    {
      "cell_type": "code",
      "metadata": {
        "id": "4jLNFhcG_DoM",
        "colab_type": "code",
        "colab": {}
      },
      "source": [
        "# változtasd meg az s karakterláncot, hogy minden karakter nagybetű legyen (emlékezz, hogy erre van egy külön metódus). \n",
        "s = 'A tipográfiában és a helyesírásban megkülönböztetett kisbetűk és nagybetűk (minuszkulák és majuszkulák) az írásrendszer betűinek két karakterkészletét alkotják.'\n",
        "s = ???\n",
        "# ellenőrizd az operációt a print funkcióval\n",
        "print(s)"
      ],
      "execution_count": 0,
      "outputs": []
    },
    {
      "cell_type": "markdown",
      "metadata": {
        "id": "S3p9kcUIdbgk",
        "colab_type": "text"
      },
      "source": [
        "##3. Funkciók"
      ]
    },
    {
      "cell_type": "markdown",
      "metadata": {
        "id": "u5tozoOhCcZV",
        "colab_type": "text"
      },
      "source": [
        "Funkciók használata\n",
        "\n",
        "A) Lista elemszáma\n",
        "\n"
      ]
    },
    {
      "cell_type": "code",
      "metadata": {
        "id": "0vWhZcTndKmX",
        "colab_type": "code",
        "colab": {}
      },
      "source": [
        "# legyen egy listám, ami színeket tartalmaz\n",
        "szinek = ['piros', 'zold', 'lila', 'kek', 'sarga', 'barna']\n",
        "# hány eleme van a listámnak, és milyen funkcióval tudom ezt elérni?\n",
        "elemszam = ???"
      ],
      "execution_count": 0,
      "outputs": []
    },
    {
      "cell_type": "markdown",
      "metadata": {
        "id": "6V4T9nzjGc2i",
        "colab_type": "text"
      },
      "source": [
        "B) Abszolút érték\n",
        "\n",
        "Az alábbi feladatban vigyázz, hogy a for loop-nál véletlenül se módosítsd a szöveg behúzását (indentation), mert ez a Pythonban szintaktikai hiba.\n",
        "Csak a **kérdőjeles** részt kell módosítani."
      ]
    },
    {
      "cell_type": "code",
      "metadata": {
        "id": "sHwpwLuzD8Gq",
        "colab_type": "code",
        "colab": {}
      },
      "source": [
        "# legyen egy listám, amelyben pedig negatív számokat tárolok\n",
        "y = [-1,-2,-3,-4,-5,-6,-7,-8,-9]\n",
        "\n",
        "# szeretnék egy másik listát, amelyekben pedig az abszolút értékeit tárolom ezeknek a negatív számoknak\n",
        "# ehhez először csinálok egy üres listát\n",
        "x = []\n",
        "# és egy for loop segítségével egyesével feltöltöm a negatív számok abszolút értékeivel\n",
        "for negativ_szam in y:\n",
        "  # veszem az abszolút értékét az adott negatív számnak - mi lesz ennek a funkciónak a bemenete? \n",
        "  pozitiv_szam = abs(???) \n",
        "  # hozzáadom az abszolút értékek listához az új pozitív számot\n",
        "  x.append(pozitiv_szam)\n",
        "\n",
        "# végül kiíratom az új listámat\n",
        "print(abszolut_ertekek)\n"
      ],
      "execution_count": 0,
      "outputs": []
    },
    {
      "cell_type": "markdown",
      "metadata": {
        "id": "XGWaZ-D2H1GX",
        "colab_type": "text"
      },
      "source": [
        "C) Ábra funkció"
      ]
    },
    {
      "cell_type": "code",
      "metadata": {
        "id": "Xq3ypr1GHblH",
        "colab_type": "code",
        "colab": {}
      },
      "source": [
        "# importáljuk az ábrakészítéshez szükséges könyvtárat\n",
        "import matplotlib.pyplot as plt\n",
        "\n",
        "# ábrázoljuk a negativ_szamok pontjait a pozitív értékek függvényében\n",
        "# plt.plot() függvény bemenete az x és az y értékei\n",
        "plt.plot(???,???, 'o')\n",
        "plt.show()\n"
      ],
      "execution_count": 0,
      "outputs": []
    }
  ]
}