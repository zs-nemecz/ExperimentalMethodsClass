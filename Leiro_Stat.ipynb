{
  "nbformat": 4,
  "nbformat_minor": 0,
  "metadata": {
    "colab": {
      "name": "Leiro_Stat.ipynb",
      "provenance": [],
      "collapsed_sections": [],
      "authorship_tag": "ABX9TyNMWk16XeXfObacb4QaplYP",
      "include_colab_link": true
    },
    "kernelspec": {
      "name": "python3",
      "display_name": "Python 3"
    }
  },
  "cells": [
    {
      "cell_type": "markdown",
      "metadata": {
        "id": "view-in-github",
        "colab_type": "text"
      },
      "source": [
        "<a href=\"https://colab.research.google.com/github/zs-nemecz/ExperimentalMethodsClass/blob/master/Leiro_Stat.ipynb\" target=\"_parent\"><img src=\"https://colab.research.google.com/assets/colab-badge.svg\" alt=\"Open In Colab\"/></a>"
      ]
    },
    {
      "cell_type": "markdown",
      "metadata": {
        "id": "Ob-jDKPtXyWM"
      },
      "source": [
        "#Leíró statisztika\n",
        "\n",
        "##Kísérletezés módszertana 2020/02\n",
        "Oktató: Nemecz Zsuzsanna\n",
        "\n",
        "Neptun kód: PSZB17-132:1"
      ]
    },
    {
      "cell_type": "code",
      "metadata": {
        "id": "PtLib5ybZOrt"
      },
      "source": [
        "# A szükséges könyvtárak importálása\n",
        "import matplotlib.pyplot as plt\n",
        "import numpy as np \n",
        "import scipy.stats as sp"
      ],
      "execution_count": 1,
      "outputs": []
    },
    {
      "cell_type": "markdown",
      "metadata": {
        "id": "iHU_KH_18zT0"
      },
      "source": [
        "##Középértékek: Átlag, Medián, Módusz"
      ]
    },
    {
      "cell_type": "code",
      "metadata": {
        "id": "pL4Q7vFpVoRE",
        "outputId": "b420d356-f27a-469e-c319-5b32ec6d5472",
        "colab": {
          "base_uri": "https://localhost:8080/",
          "height": 34
        }
      },
      "source": [
        "# Átlag\n",
        "adatsor = [1.5, 3,3, 2.5, 2.7, 3.1, 1.5, 13.9, 3.7, 2.2, 3.8, 0.6, 1.5,4.3,5.2, 10.2, 10.6, 13.1,]\n",
        "atlag = np.mean(adatsor)\n",
        "print('Átlag:', atlag)"
      ],
      "execution_count": 2,
      "outputs": [
        {
          "output_type": "stream",
          "text": [
            "Átlag: 4.8\n"
          ],
          "name": "stdout"
        }
      ]
    },
    {
      "cell_type": "code",
      "metadata": {
        "id": "4stfVB9vY28v",
        "outputId": "64683074-aa5b-4c00-c33a-02e6d9056c34",
        "colab": {
          "base_uri": "https://localhost:8080/",
          "height": 34
        }
      },
      "source": [
        "# Medián: helyzeti középérték, tehát a sorba rendezett adatsor közepén lévő elem\n",
        "med = np.median(adatsor)\n",
        "print('Medián', med)"
      ],
      "execution_count": 3,
      "outputs": [
        {
          "output_type": "stream",
          "text": [
            "Medián 3.05\n"
          ],
          "name": "stdout"
        }
      ]
    },
    {
      "cell_type": "code",
      "metadata": {
        "id": "T48GkMfxY44L",
        "outputId": "8e92fba0-4ffc-4bab-e43f-d2973a1d1ac3",
        "colab": {
          "base_uri": "https://localhost:8080/",
          "height": 52
        }
      },
      "source": [
        "# Módusz: a leggyakoribb elem\n",
        "# https://docs.scipy.org/doc/scipy/reference/generated/scipy.stats.mode.html\n",
        "modusz, elemszam = sp.mode(adatsor) # ez a mode funkció két elemmel tér vissza, az egyik a leggyakoribb elemek listája, a másik a leggyakoribb elemek számának listája\n",
        "print('Módusz', modusz[0])\n",
        "print('Módusz elemszáma:', elemszam[0])"
      ],
      "execution_count": 4,
      "outputs": [
        {
          "output_type": "stream",
          "text": [
            "Módusz 1.5\n",
            "Módusz elemszáma: 3\n"
          ],
          "name": "stdout"
        }
      ]
    },
    {
      "cell_type": "markdown",
      "metadata": {
        "id": "RHTAhuWT9BMA"
      },
      "source": [
        "Vegyük szemre az adatsort"
      ]
    },
    {
      "cell_type": "code",
      "metadata": {
        "id": "jJBNdeBzbCrf",
        "outputId": "904b3fac-2648-4cb7-f21d-a458919aa796",
        "colab": {
          "base_uri": "https://localhost:8080/",
          "height": 279
        }
      },
      "source": [
        "# Felhődiagram (scatter plot)\n",
        "x = np.arange(0, len(adatsor), 1, dtype=int)\n",
        "y = np.array(adatsor) # a listából tömböt csinálok, amely alkalmasabb az adatelemzésre\n",
        "plt.plot(x,y, 'x')\n",
        "plt.xlabel('Elem indexe')\n",
        "plt.xticks(x)\n",
        "plt.ylabel('Érték')\n",
        "plt.show()"
      ],
      "execution_count": 12,
      "outputs": [
        {
          "output_type": "display_data",
          "data": {
            "image/png": "[encoded data removed]",
            "text/plain": [
              "<Figure size 432x288 with 1 Axes>"
            ]
          },
          "metadata": {
            "tags": [],
            "needs_background": "light"
          }
        }
      ]
    },
    {
      "cell_type": "code",
      "metadata": {
        "id": "fv4sm9Vdgtec",
        "outputId": "ab173c90-ad6d-4df3-a1b2-a4b1e2fe756b",
        "colab": {
          "base_uri": "https://localhost:8080/",
          "height": 279
        }
      },
      "source": [
        "# Felhődiagram az adatok sorba rendezése után\n",
        "y.sort() # sorba rendezés\n",
        "plt.plot(x,y, 'o')\n",
        "plt.xlabel('Elem indexe')\n",
        "plt.xticks(x)\n",
        "plt.ylabel('Érték')\n",
        "plt.show()\n"
      ],
      "execution_count": 11,
      "outputs": [
        {
          "output_type": "display_data",
          "data": {
            "image/png": "[encoded data removed]",
            "text/plain": [
              "<Figure size 432x288 with 1 Axes>"
            ]
          },
          "metadata": {
            "tags": [],
            "needs_background": "light"
          }
        }
      ]
    },
    {
      "cell_type": "code",
      "metadata": {
        "id": "bTsWeFC0hKZ3",
        "outputId": "0c8ed5d0-88ed-423e-93e2-70d7addfc3cb",
        "colab": {
          "base_uri": "https://localhost:8080/",
          "height": 279
        }
      },
      "source": [
        "# Ábrázoljuk a középértékeket a felhődiagramra vetítve\n",
        "plt.plot(x,y, 'o')\n",
        "plt.xlabel('Elem indexe')\n",
        "plt.xticks(x)\n",
        "plt.ylabel('Érték')\n",
        "# az np.full funkció segítségével egy tömb struktúrát hozunk létre, hogy a középértékeket vonalként ábrázolhassuk\n",
        "plt.plot(x, np.full(y.shape,med), 'g', label='Medián', alpha=0.6) \n",
        "plt.plot(x, np.full(y.shape,modusz), 'y', label='Módusz', alpha=0.6)\n",
        "plt.plot(x, np.full(y.shape,atlag), 'r', label='Átlag', alpha=0.6)\n",
        "plt.legend() # az adatcímkék kiírása\n",
        "plt.show()"
      ],
      "execution_count": 19,
      "outputs": [
        {
          "output_type": "display_data",
          "data": {
            "image/png": "[encoded data removed]",
            "text/plain": [
              "<Figure size 432x288 with 1 Axes>"
            ]
          },
          "metadata": {
            "tags": [],
            "needs_background": "light"
          }
        }
      ]
    },
    {
      "cell_type": "code",
      "metadata": {
        "id": "twSATZIAiX0c",
        "outputId": "482688a9-6e7c-4e93-eff4-ab2201af4ec1",
        "colab": {
          "base_uri": "https://localhost:8080/",
          "height": 279
        }
      },
      "source": [
        "# A hisztogramról leolvasható az értékek eloszlása \n",
        "plt.hist(y) \n",
        "plt.xlabel('Érték')\n",
        "plt.xticks(x)\n",
        "plt.ylabel('Gyakoriság')\n",
        "plt.show()"
      ],
      "execution_count": 22,
      "outputs": [
        {
          "output_type": "display_data",
          "data": {
            "image/png": "[encoded data removed]",
            "text/plain": [
              "<Figure size 432x288 with 1 Axes>"
            ]
          },
          "metadata": {
            "tags": [],
            "needs_background": "light"
          }
        }
      ]
    },
    {
      "cell_type": "code",
      "metadata": {
        "id": "_O3PMQWoBzJN",
        "outputId": "5fccd099-f281-4758-9ea6-c707c67c1ea8",
        "colab": {
          "base_uri": "https://localhost:8080/",
          "height": 279
        }
      },
      "source": [
        "# A hisztogramról leolvasható az értékek eloszlása \n",
        "plt.hist(y, density=True) \n",
        "plt.xlabel('Érték')\n",
        "plt.xticks(x)\n",
        "plt.ylabel('Gyakoriság')\n",
        "plt.show()"
      ],
      "execution_count": 23,
      "outputs": [
        {
          "output_type": "display_data",
          "data": {
            "image/png": "[encoded data removed]",
            "text/plain": [
              "<Figure size 432x288 with 1 Axes>"
            ]
          },
          "metadata": {
            "tags": [],
            "needs_background": "light"
          }
        }
      ]
    },
    {
      "cell_type": "markdown",
      "metadata": {
        "id": "C3HdZ-BI88Kk"
      },
      "source": [
        "## Szóródási mutatók"
      ]
    },
    {
      "cell_type": "code",
      "metadata": {
        "id": "x1mBw1JtjQUo",
        "outputId": "f420d892-1ec4-478d-ccaf-04a5ed475fb9",
        "colab": {
          "base_uri": "https://localhost:8080/",
          "height": 34
        }
      },
      "source": [
        "# Terjedelem (range)\n",
        "minimum = np.min(y)\n",
        "maximum = np.max(y)\n",
        "terjedelem = maximum - minimum \n",
        "print('Az adatsorban a minimum érték {}, a maximum érték {}, a terjedelem pedig {}.'. format(minimum, maximum, terjedelem))"
      ],
      "execution_count": 24,
      "outputs": [
        {
          "output_type": "stream",
          "text": [
            "Az adatsorban a minimum érték 0.6, a maximum érték 13.9, a terjedelem pedig 13.3.\n"
          ],
          "name": "stdout"
        }
      ]
    },
    {
      "cell_type": "code",
      "metadata": {
        "id": "1zTcB3Fm-2Mp",
        "outputId": "4cba2a53-4263-4350-c9b9-7c0716c27d10",
        "colab": {
          "base_uri": "https://localhost:8080/",
          "height": 34
        }
      },
      "source": [
        "# Szórás (standard deviation)\n",
        "szoras = np.std(y)\n",
        "# Variancia\n",
        "variancia = np.var(y)\n",
        "# Interkvantilis terjedelem (Q1-Q3, ahol Q1 a sorba rendezett adatsor első felének középső eleme, Q3 pedig a második felének a középső eleme)\n",
        "interkv = sp.iqr(y)\n",
        "print('Az adatok szórása {}, a variancia {}, az interkvartilis terjedelem pedig {}'. format(szoras, variancia, interkv))"
      ],
      "execution_count": 30,
      "outputs": [
        {
          "output_type": "stream",
          "text": [
            "Az adatok szórása 4.0363624988623386, a variancia 16.29222222222222, az interkvartilis terjedelem pedig 2.7\n"
          ],
          "name": "stdout"
        }
      ]
    },
    {
      "cell_type": "code",
      "metadata": {
        "id": "Iq-G8LXZBLMo",
        "outputId": "901fe6ed-bb4a-4b95-f876-5ab9d48bf660",
        "colab": {
          "base_uri": "https://localhost:8080/",
          "height": 265
        }
      },
      "source": [
        "# A szóródás ábrázolása boxplottal (doboz ábra):\n",
        "# a doboz alja és teteje az interkvantilis terjedelmet ábrázolják\n",
        "# a doboz közepén lévő vonal a mediánt jelöli (ezért esik egybe a zöld csillaggal)\n",
        "bxplt = plt.boxplot(y, labels=['Adatsor'])\n",
        "plt.ylabel('Érték')\n",
        "plt.plot(1, med, 'k*', label='Medán')\n",
        "plt.plot(1, modusz, 'y*', label='Módusz')\n",
        "plt.plot(1, atlag, 'r*', label='Átlag')\n",
        "plt.legend()\n",
        "plt.show()"
      ],
      "execution_count": 36,
      "outputs": [
        {
          "output_type": "display_data",
          "data": {
            "image/png": "[encoded data removed]",
            "text/plain": [
              "<Figure size 432x288 with 1 Axes>"
            ]
          },
          "metadata": {
            "tags": [],
            "needs_background": "light"
          }
        }
      ]
    },
    {
      "cell_type": "markdown",
      "metadata": {
        "id": "EywDx5F1b61a"
      },
      "source": [
        "##Többváltozó elemzés"
      ]
    },
    {
      "cell_type": "code",
      "metadata": {
        "id": "Af68Zj1NaR6o",
        "outputId": "059d69af-561d-41b3-a7a6-fa73dce3b8fd",
        "colab": {
          "base_uri": "https://localhost:8080/",
          "height": 279
        }
      },
      "source": [
        "# Generáljunk egy adatsort, amely normális eloszlású, átlaga 13, szórása 6, és olyan hosszúságú, mint az eredeti y adatsorounk\n",
        "y_2 =  np.random.normal(13, scale=6, size=y.shape) \n",
        "plt.plot(x, y)\n",
        "plt.plot(x, y_2)\n",
        "plt.xlabel('Elem indexe')\n",
        "plt.xticks(x)\n",
        "plt.ylabel('Érték')\n",
        "plt.show()"
      ],
      "execution_count": 37,
      "outputs": [
        {
          "output_type": "display_data",
          "data": {
            "image/png": "[encoded data removed]",
            "text/plain": [
              "<Figure size 432x288 with 1 Axes>"
            ]
          },
          "metadata": {
            "tags": [],
            "needs_background": "light"
          }
        }
      ]
    },
    {
      "cell_type": "code",
      "metadata": {
        "id": "vpvGKTirew-O",
        "outputId": "0d97ccf0-0728-4b64-93b0-a5ffa2307ddc",
        "colab": {
          "base_uri": "https://localhost:8080/",
          "height": 279
        }
      },
      "source": [
        "#Ábrázoljuk a két változó eloszlását hisztogramon\n",
        "figure, axs = plt.subplots(2, sharex=True, sharey=True)\n",
        "axs[0].hist(y)\n",
        "axs[0].set(ylabel='Gyakoriság')\n",
        "axs[1].hist(y_2)\n",
        "axs[1].set(xlabel='Érték', ylabel='Gyakoriság')\n",
        "plt.show()"
      ],
      "execution_count": 43,
      "outputs": [
        {
          "output_type": "display_data",
          "data": {
            "image/png": "[encoded data removed]",
            "text/plain": [
              "<Figure size 432x288 with 2 Axes>"
            ]
          },
          "metadata": {
            "tags": [],
            "needs_background": "light"
          }
        }
      ]
    },
    {
      "cell_type": "code",
      "metadata": {
        "id": "i6yehqOLc4Mc",
        "outputId": "a891149d-df4f-40ad-bdde-b9f63f9735fe",
        "colab": {
          "base_uri": "https://localhost:8080/",
          "height": 265
        }
      },
      "source": [
        "plt.boxplot([y, y_2], labels=['Adatsor1', 'Adatsor2'])\n",
        "plt.ylabel('Érték')\n",
        "plt.show()"
      ],
      "execution_count": 45,
      "outputs": [
        {
          "output_type": "display_data",
          "data": {
            "image/png": "[encoded data removed]",
            "text/plain": [
              "<Figure size 432x288 with 1 Axes>"
            ]
          },
          "metadata": {
            "tags": [],
            "needs_background": "light"
          }
        }
      ]
    },
    {
      "cell_type": "code",
      "metadata": {
        "id": "KV1mvrZyeeFj"
      },
      "source": [
        ""
      ],
      "execution_count": null,
      "outputs": []
    }
  ]
}