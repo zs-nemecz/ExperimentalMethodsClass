{
  "nbformat": 4,
  "nbformat_minor": 0,
  "metadata": {
    "colab": {
      "name": "Leiro_Stat.ipynb",
      "provenance": [],
      "collapsed_sections": [],
      "authorship_tag": "ABX9TyPIwuQObyUZDBuydnAkKgY5",
      "include_colab_link": true
    },
    "kernelspec": {
      "name": "python3",
      "display_name": "Python 3"
    }
  },
  "cells": [
    {
      "cell_type": "markdown",
      "metadata": {
        "id": "view-in-github",
        "colab_type": "text"
      },
      "source": [
        "<a href=\"https://colab.research.google.com/github/zs-nemecz/ExperimentalMethodsClass/blob/master/Leiro_Stat.ipynb\" target=\"_parent\"><img src=\"https://colab.research.google.com/assets/colab-badge.svg\" alt=\"Open In Colab\"/></a>"
      ]
    },
    {
      "cell_type": "markdown",
      "metadata": {
        "id": "Ob-jDKPtXyWM",
        "colab_type": "text"
      },
      "source": [
        "#Leíró statisztika\n",
        "\n",
        "##Kísérletezés módszertana 2020/02\n",
        "Oktató: Nemecz Zsuzsanna\n",
        "\n",
        "Neptun kód: PSZB17-132:1"
      ]
    },
    {
      "cell_type": "code",
      "metadata": {
        "id": "PtLib5ybZOrt",
        "colab_type": "code",
        "colab": {}
      },
      "source": [
        "# A szükséges könyvtárak importálása\n",
        "import matplotlib.pyplot as plt\n",
        "import numpy as np \n",
        "import scipy.stats as sp"
      ],
      "execution_count": 0,
      "outputs": []
    },
    {
      "cell_type": "markdown",
      "metadata": {
        "id": "iHU_KH_18zT0",
        "colab_type": "text"
      },
      "source": [
        "##Középértékek: Átlag, Medián, Módusz"
      ]
    },
    {
      "cell_type": "code",
      "metadata": {
        "id": "pL4Q7vFpVoRE",
        "colab_type": "code",
        "outputId": "d4a23aa8-cf1c-4a29-a97e-2425283331e0",
        "colab": {
          "base_uri": "https://localhost:8080/",
          "height": 34
        }
      },
      "source": [
        "# Átlag\n",
        "adatsor = [1.5, 3,3, 2.5, 2.7, 3.1, 1.5, 13.9, 3.7, 2.2, 3.8, 0.6, 1.5,4.3,5.2, 10.2, 10.6, 13.1,]\n",
        "atlag = np.mean(adatsor)\n",
        "print('Átlag:', atlag)"
      ],
      "execution_count": 0,
      "outputs": [
        {
          "output_type": "stream",
          "text": [
            "Átlag: 4.8\n"
          ],
          "name": "stdout"
        }
      ]
    },
    {
      "cell_type": "code",
      "metadata": {
        "id": "4stfVB9vY28v",
        "colab_type": "code",
        "outputId": "a134bb75-1210-4cab-a6fe-5ae0df23b173",
        "colab": {
          "base_uri": "https://localhost:8080/",
          "height": 34
        }
      },
      "source": [
        "# Medián: helyzeti középérték, tehát a sorba rendezett adatsor közepén lévő elem\n",
        "med = np.median(adatsor)\n",
        "print('Medián', med)"
      ],
      "execution_count": 0,
      "outputs": [
        {
          "output_type": "stream",
          "text": [
            "Medián 3.05\n"
          ],
          "name": "stdout"
        }
      ]
    },
    {
      "cell_type": "code",
      "metadata": {
        "id": "T48GkMfxY44L",
        "colab_type": "code",
        "outputId": "88cf5bce-e8b9-41b4-d11f-1c7c47be43b3",
        "colab": {
          "base_uri": "https://localhost:8080/",
          "height": 52
        }
      },
      "source": [
        "# Módusz: a leggyakoribb elem\n",
        "# https://docs.scipy.org/doc/scipy/reference/generated/scipy.stats.mode.html\n",
        "modusz, elemszam = sp.mode(adatsor) # ez a mode funkció két elemmel tér vissza, az egyik a leggyakoribb elemek listája, a másik a leggyakoribb elemek számának listája\n",
        "print('Módusz', modusz[0])\n",
        "print('Módusz elemszáma:', elemszam[0])"
      ],
      "execution_count": 0,
      "outputs": [
        {
          "output_type": "stream",
          "text": [
            "Módusz 1.5\n",
            "Módusz elemszáma: 3\n"
          ],
          "name": "stdout"
        }
      ]
    },
    {
      "cell_type": "markdown",
      "metadata": {
        "id": "RHTAhuWT9BMA",
        "colab_type": "text"
      },
      "source": [
        "Vegyük szemre az adatsort"
      ]
    },
    {
      "cell_type": "code",
      "metadata": {
        "id": "jJBNdeBzbCrf",
        "colab_type": "code",
        "outputId": "4166dcba-6be0-45b2-b7fb-fdbbcbd9c960",
        "colab": {
          "base_uri": "https://localhost:8080/",
          "height": 265
        }
      },
      "source": [
        "# Felhődiagram (scatter plot)\n",
        "x = np.arange(0, len(adatsor), 1)\n",
        "y = np.array(adatsor) # a listából tömböt csinálok, amely alkalmasabb az adatelemzésre\n",
        "plt.plot(x,y, 'x')\n",
        "plt.show()"
      ],
      "execution_count": 0,
      "outputs": [
        {
          "output_type": "display_data",
          "data": {
            "image/png": "[encoded data removed]",
            "text/plain": [
              "<Figure size 432x288 with 1 Axes>"
            ]
          },
          "metadata": {
            "tags": []
          }
        }
      ]
    },
    {
      "cell_type": "code",
      "metadata": {
        "id": "fv4sm9Vdgtec",
        "colab_type": "code",
        "outputId": "8a416a31-facb-4561-8600-caf2a7458003",
        "colab": {
          "base_uri": "https://localhost:8080/",
          "height": 265
        }
      },
      "source": [
        "# Felhődiagram az adatok sorba rendezése után\n",
        "y.sort() # sorba rendezés\n",
        "plt.plot(x,y, 'o')\n",
        "plt.show()\n"
      ],
      "execution_count": 0,
      "outputs": [
        {
          "output_type": "display_data",
          "data": {
            "image/png": "[encoded data removed]",
            "text/plain": [
              "<Figure size 432x288 with 1 Axes>"
            ]
          },
          "metadata": {
            "tags": []
          }
        }
      ]
    },
    {
      "cell_type": "code",
      "metadata": {
        "id": "bTsWeFC0hKZ3",
        "colab_type": "code",
        "outputId": "b426782b-2af5-43cc-fabe-5d97240b8da4",
        "colab": {
          "base_uri": "https://localhost:8080/",
          "height": 282
        }
      },
      "source": [
        "# Ábrázoljuk a középértékeket a felhődiagramra vetítve\n",
        "plt.plot(x,y, 'o')\n",
        "# az np.full funkció segítségével egy tömb struktúrát hozunk létre, hogy a középértékeket vonalként ábrázolhassuk\n",
        "plt.plot(7.5, atlag, 'ro')\n",
        "\n",
        "\n",
        "#plt.plot(x, np.full(y.shape,med), 'g', label='Medián') \n",
        "#plt.plot(x, np.full(y.shape,modusz), 'y', label='Módusz')\n",
        "#plt.plot(x, np.full(y.shape,atlag), 'r', label='Átlag')\n",
        "plt.legend() # az adatcímkék kiírása\n",
        "plt.show()"
      ],
      "execution_count": 0,
      "outputs": [
        {
          "output_type": "stream",
          "text": [
            "No handles with labels found to put in legend.\n"
          ],
          "name": "stderr"
        },
        {
          "output_type": "display_data",
          "data": {
            "image/png": "[encoded data removed]",
            "text/plain": [
              "<Figure size 432x288 with 1 Axes>"
            ]
          },
          "metadata": {
            "tags": []
          }
        }
      ]
    },
    {
      "cell_type": "code",
      "metadata": {
        "id": "twSATZIAiX0c",
        "colab_type": "code",
        "outputId": "61ab3782-e83e-4572-a30d-c9d6848e347d",
        "colab": {
          "base_uri": "https://localhost:8080/",
          "height": 265
        }
      },
      "source": [
        "# A hisztogramról leolvasható az értékek eloszlása \n",
        "plt.hist(y) \n",
        "plt.plot(med, 1, 'g*', label='Medián')\n",
        "plt.plot(modusz, 2, 'y*', label='Módusz')\n",
        "plt.plot(atlag, 3, 'r*', label='Átlag')\n",
        "plt.legend()\n",
        "plt.show()"
      ],
      "execution_count": 0,
      "outputs": [
        {
          "output_type": "display_data",
          "data": {
            "image/png": "[encoded data removed]",
            "text/plain": [
              "<Figure size 432x288 with 1 Axes>"
            ]
          },
          "metadata": {
            "tags": []
          }
        }
      ]
    },
    {
      "cell_type": "markdown",
      "metadata": {
        "id": "C3HdZ-BI88Kk",
        "colab_type": "text"
      },
      "source": [
        "## Szóródási mutatók"
      ]
    },
    {
      "cell_type": "code",
      "metadata": {
        "id": "x1mBw1JtjQUo",
        "colab_type": "code",
        "outputId": "764b756e-7c78-41dc-d76f-80c2461df8fe",
        "colab": {
          "base_uri": "https://localhost:8080/",
          "height": 34
        }
      },
      "source": [
        "# Terjedelem (range)\n",
        "minimum = np.min(y)\n",
        "maximum = np.max(y)\n",
        "terjedelem = maximum - minimum \n",
        "print('Az adatsorban a minimum érték {}, a maximum érték {}, a terjedelem pedig {}.'. format(minimum, maximum, terjedelem))"
      ],
      "execution_count": 0,
      "outputs": [
        {
          "output_type": "stream",
          "text": [
            "Az adatsorban a minimum érték 0.6, a maximum érték 42.0, a terjedelem pedig 41.4.\n"
          ],
          "name": "stdout"
        }
      ]
    },
    {
      "cell_type": "code",
      "metadata": {
        "id": "1zTcB3Fm-2Mp",
        "colab_type": "code",
        "outputId": "acbde08a-7e2c-4213-b6fb-d20cb884842e",
        "colab": {
          "base_uri": "https://localhost:8080/",
          "height": 34
        }
      },
      "source": [
        "# Szórás (standard deviation)\n",
        "szoras = np.std(y)\n",
        "# Variancia\n",
        "variancia = np.var(y)\n",
        "# Interkvantilis terjedelem ()\n",
        "interkv = sp.iqr(y)\n",
        "print('Az adatok szórása {}, a variancia {}, az interkvantilis terjedelem pedig {}'. format(szoras, variancia, interkv))"
      ],
      "execution_count": 0,
      "outputs": [
        {
          "output_type": "stream",
          "text": [
            "Az adatok szórása 9.618303629324785, a variancia 92.51176470588234, az interkvantilis terjedelem pedig 7.999999999999999\n"
          ],
          "name": "stdout"
        }
      ]
    },
    {
      "cell_type": "code",
      "metadata": {
        "id": "Iq-G8LXZBLMo",
        "colab_type": "code",
        "outputId": "87891edf-af10-49a0-96b7-7348dc27b76a",
        "colab": {
          "base_uri": "https://localhost:8080/",
          "height": 265
        }
      },
      "source": [
        "# A szóródás ábrázolása boxplottal (doboz ábra):\n",
        "# a doboz alja és teteje az interkvantilis terjedelmet ábrázolják\n",
        "# a doboz közepén lévő vonal a mediánt jelöli (ezért esik egybe a zöld csillaggal)\n",
        "plt.boxplot(y)\n",
        "plt.plot(1, med, 'g*', label='Medán')\n",
        "plt.plot(1, modusz, 'y*', label='Módusz')\n",
        "plt.plot(1, atlag, 'r*', label='Átlag')\n",
        "plt.legend()\n",
        "plt.show()"
      ],
      "execution_count": 0,
      "outputs": [
        {
          "output_type": "display_data",
          "data": {
            "image/png": "[encoded data removed]",
            "text/plain": [
              "<Figure size 432x288 with 1 Axes>"
            ]
          },
          "metadata": {
            "tags": []
          }
        }
      ]
    },
    {
      "cell_type": "markdown",
      "metadata": {
        "id": "EywDx5F1b61a",
        "colab_type": "text"
      },
      "source": [
        "##Többváltozó elemzés"
      ]
    },
    {
      "cell_type": "code",
      "metadata": {
        "id": "Af68Zj1NaR6o",
        "colab_type": "code",
        "outputId": "c80aadd6-57f8-4c90-8a1c-73c85e66ae53",
        "colab": {
          "base_uri": "https://localhost:8080/",
          "height": 265
        }
      },
      "source": [
        "# Generáljunk egy adatsort, amely normális eloszlású, átlaga 13, szórása 6, és olyan hosszúságú, mint az eredeti y adatsorounk\n",
        "y_2 =  np.random.normal(13, scale=6, size=y.shape) \n",
        "plt.plot(x, y)\n",
        "plt.plot(x, y_2)\n",
        "plt.show()"
      ],
      "execution_count": 0,
      "outputs": [
        {
          "output_type": "display_data",
          "data": {
            "image/png": "[encoded data removed]",
            "text/plain": [
              "<Figure size 432x288 with 1 Axes>"
            ]
          },
          "metadata": {
            "tags": []
          }
        }
      ]
    },
    {
      "cell_type": "code",
      "metadata": {
        "id": "vpvGKTirew-O",
        "colab_type": "code",
        "outputId": "3648eaaa-54a3-4872-bce5-8655028f8942",
        "colab": {
          "base_uri": "https://localhost:8080/",
          "height": 265
        }
      },
      "source": [
        "#Ábrázoljuk a két változó eloszlását hisztogramon\n",
        "figure, axs = plt.subplots(2)\n",
        "axs[0].hist(y)\n",
        "axs[1].hist(y_2)\n",
        "plt.show()"
      ],
      "execution_count": 0,
      "outputs": [
        {
          "output_type": "display_data",
          "data": {
            "image/png": "[encoded data removed]",
            "text/plain": [
              "<Figure size 432x288 with 2 Axes>"
            ]
          },
          "metadata": {
            "tags": []
          }
        }
      ]
    },
    {
      "cell_type": "code",
      "metadata": {
        "id": "i6yehqOLc4Mc",
        "colab_type": "code",
        "outputId": "5f0573a2-1051-4357-975c-12f15d2bebd2",
        "colab": {
          "base_uri": "https://localhost:8080/",
          "height": 265
        }
      },
      "source": [
        "plt.boxplot([y, y_2])\n",
        "plt.show()"
      ],
      "execution_count": 0,
      "outputs": [
        {
          "output_type": "display_data",
          "data": {
            "image/png": "[encoded data removed]",
            "text/plain": [
              "<Figure size 432x288 with 1 Axes>"
            ]
          },
          "metadata": {
            "tags": []
          }
        }
      ]
    },
    {
      "cell_type": "code",
      "metadata": {
        "id": "KV1mvrZyeeFj",
        "colab_type": "code",
        "colab": {}
      },
      "source": [
        ""
      ],
      "execution_count": 0,
      "outputs": []
    }
  ]
}