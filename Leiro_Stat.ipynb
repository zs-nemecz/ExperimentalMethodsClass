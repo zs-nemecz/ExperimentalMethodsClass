{
  "nbformat": 4,
  "nbformat_minor": 0,
  "metadata": {
    "colab": {
      "name": "Leiro_Stat.ipynb",
      "provenance": [],
      "collapsed_sections": [],
      "authorship_tag": "ABX9TyNMWk16XeXfObacb4QaplYP",
      "include_colab_link": true
    },
    "kernelspec": {
      "name": "python3",
      "display_name": "Python 3"
    }
  },
  "cells": [
    {
      "cell_type": "markdown",
      "metadata": {
        "id": "view-in-github",
        "colab_type": "text"
      },
      "source": [
        "<a href=\"https://colab.research.google.com/github/zs-nemecz/ExperimentalMethodsClass/blob/master/Leiro_Stat.ipynb\" target=\"_parent\"><img src=\"https://colab.research.google.com/assets/colab-badge.svg\" alt=\"Open In Colab\"/></a>"
      ]
    },
    {
      "cell_type": "markdown",
      "metadata": {
        "id": "Ob-jDKPtXyWM"
      },
      "source": [
        "#Leíró statisztika\n",
        "\n",
        "##Kísérletezés módszertana 2020/02\n",
        "Oktató: Nemecz Zsuzsanna\n",
        "\n",
        "Neptun kód: PSZB17-132:1"
      ]
    },
    {
      "cell_type": "code",
      "metadata": {
        "id": "PtLib5ybZOrt"
      },
      "source": [
        "# A szükséges könyvtárak importálása\n",
        "import matplotlib.pyplot as plt\n",
        "import numpy as np \n",
        "import scipy.stats as sp"
      ],
      "execution_count": null,
      "outputs": []
    },
    {
      "cell_type": "markdown",
      "metadata": {
        "id": "iHU_KH_18zT0"
      },
      "source": [
        "##Középértékek: Átlag, Medián, Módusz"
      ]
    },
    {
      "cell_type": "code",
      "metadata": {
        "id": "pL4Q7vFpVoRE"
      },
      "source": [
        "# Átlag\n",
        "adatsor = [1.5, 3,3, 2.5, 2.7, 3.1, 1.5, 13.9, 3.7, 2.2, 3.8, 0.6, 1.5,4.3,5.2, 10.2, 10.6, 13.1,]\n",
        "atlag = np.mean(adatsor)\n",
        "print('Átlag:', atlag)"
      ],
      "execution_count": null,
      "outputs": []
    },
    {
      "cell_type": "code",
      "metadata": {
        "id": "4stfVB9vY28v"
      },
      "source": [
        "# Medián: helyzeti középérték, tehát a sorba rendezett adatsor közepén lévő elem\n",
        "med = np.median(adatsor)\n",
        "print('Medián', med)"
      ],
      "execution_count": null,
      "outputs": []
    },
    {
      "cell_type": "code",
      "metadata": {
        "id": "T48GkMfxY44L"
      },
      "source": [
        "# Módusz: a leggyakoribb elem\n",
        "# https://docs.scipy.org/doc/scipy/reference/generated/scipy.stats.mode.html\n",
        "modusz, elemszam = sp.mode(adatsor) # ez a mode funkció két elemmel tér vissza, az egyik a leggyakoribb elemek listája, a másik a leggyakoribb elemek számának listája\n",
        "print('Módusz', modusz[0])\n",
        "print('Módusz elemszáma:', elemszam[0])"
      ],
      "execution_count": null,
      "outputs": []
    },
    {
      "cell_type": "markdown",
      "metadata": {
        "id": "RHTAhuWT9BMA"
      },
      "source": [
        "Vegyük szemre az adatsort"
      ]
    },
    {
      "cell_type": "code",
      "metadata": {
        "id": "jJBNdeBzbCrf"
      },
      "source": [
        "# Felhődiagram (scatter plot)\n",
        "x = np.arange(0, len(adatsor), 1, dtype=int)\n",
        "y = np.array(adatsor) # a listából tömböt csinálok, amely alkalmasabb az adatelemzésre\n",
        "plt.plot(x,y, 'x')\n",
        "plt.xlabel('Elem indexe')\n",
        "plt.xticks(x)\n",
        "plt.ylabel('Érték')\n",
        "plt.show()"
      ],
      "execution_count": null,
      "outputs": []
    },
    {
      "cell_type": "code",
      "metadata": {
        "id": "fv4sm9Vdgtec"
      },
      "source": [
        "# Felhődiagram az adatok sorba rendezése után\n",
        "y.sort() # sorba rendezés\n",
        "plt.plot(x,y, 'o')\n",
        "plt.xlabel('Elem indexe')\n",
        "plt.xticks(x)\n",
        "plt.ylabel('Érték')\n",
        "plt.show()\n"
      ],
      "execution_count": null,
      "outputs": []
    },
    {
      "cell_type": "code",
      "metadata": {
        "id": "bTsWeFC0hKZ3"
      },
      "source": [
        "# Ábrázoljuk a középértékeket a felhődiagramra vetítve\n",
        "plt.plot(x,y, 'o')\n",
        "plt.xlabel('Elem indexe')\n",
        "plt.xticks(x)\n",
        "plt.ylabel('Érték')\n",
        "# az np.full funkció segítségével egy tömb struktúrát hozunk létre, hogy a középértékeket vonalként ábrázolhassuk\n",
        "plt.plot(x, np.full(y.shape,med), 'g', label='Medián', alpha=0.6) \n",
        "plt.plot(x, np.full(y.shape,modusz), 'y', label='Módusz', alpha=0.6)\n",
        "plt.plot(x, np.full(y.shape,atlag), 'r', label='Átlag', alpha=0.6)\n",
        "plt.legend() # az adatcímkék kiírása\n",
        "plt.show()"
      ],
      "execution_count": null,
      "outputs": []
    },
    {
      "cell_type": "code",
      "metadata": {
        "id": "twSATZIAiX0c"
      },
      "source": [
        "# A hisztogramról leolvasható az értékek eloszlása \n",
        "plt.hist(y) \n",
        "plt.xlabel('Érték')\n",
        "plt.xticks(x)\n",
        "plt.ylabel('Gyakoriság')\n",
        "plt.show()"
      ],
      "execution_count": null,
      "outputs": []
    },
    {
      "cell_type": "code",
      "metadata": {
        "id": "_O3PMQWoBzJN"
      },
      "source": [
        "# A hisztogramról leolvasható az értékek eloszlása \n",
        "plt.hist(y, density=True) \n",
        "plt.xlabel('Érték')\n",
        "plt.xticks(x)\n",
        "plt.ylabel('Gyakoriság')\n",
        "plt.show()"
      ],
      "execution_count": null,
      "outputs": []
    },
    {
      "cell_type": "markdown",
      "metadata": {
        "id": "C3HdZ-BI88Kk"
      },
      "source": [
        "## Szóródási mutatók"
      ]
    },
    {
      "cell_type": "code",
      "metadata": {
        "id": "x1mBw1JtjQUo"
      },
      "source": [
        "# Terjedelem (range)\n",
        "minimum = np.min(y)\n",
        "maximum = np.max(y)\n",
        "terjedelem = maximum - minimum \n",
        "print('Az adatsorban a minimum érték {}, a maximum érték {}, a terjedelem pedig {}.'. format(minimum, maximum, terjedelem))"
      ],
      "execution_count": null,
      "outputs": []
    },
    {
      "cell_type": "code",
      "metadata": {
        "id": "1zTcB3Fm-2Mp"
      },
      "source": [
        "# Szórás (standard deviation)\n",
        "szoras = np.std(y)\n",
        "# Variancia\n",
        "variancia = np.var(y)\n",
        "# Interkvantilis terjedelem (Q1-Q3, ahol Q1 a sorba rendezett adatsor első felének középső eleme, Q3 pedig a második felének a középső eleme)\n",
        "interkv = sp.iqr(y)\n",
        "print('Az adatok szórása {}, a variancia {}, az interkvartilis terjedelem pedig {}'. format(szoras, variancia, interkv))"
      ],
      "execution_count": null,
      "outputs": []
    },
    {
      "cell_type": "code",
      "metadata": {
        "id": "Iq-G8LXZBLMo"
      },
      "source": [
        "# A szóródás ábrázolása boxplottal (doboz ábra):\n",
        "# a doboz alja és teteje az interkvantilis terjedelmet ábrázolják\n",
        "# a doboz közepén lévő vonal a mediánt jelöli (ezért esik egybe a zöld csillaggal)\n",
        "bxplt = plt.boxplot(y, labels=['Adatsor'])\n",
        "plt.ylabel('Érték')\n",
        "plt.plot(1, med, 'k*', label='Medán')\n",
        "plt.plot(1, modusz, 'y*', label='Módusz')\n",
        "plt.plot(1, atlag, 'r*', label='Átlag')\n",
        "plt.legend()\n",
        "plt.show()"
      ],
      "execution_count": null,
      "outputs": []
    },
    {
      "cell_type": "markdown",
      "metadata": {
        "id": "EywDx5F1b61a"
      },
      "source": [
        "##Többváltozó elemzés"
      ]
    },
    {
      "cell_type": "code",
      "metadata": {
        "id": "Af68Zj1NaR6o"
      },
      "source": [
        "# Generáljunk egy adatsort, amely normális eloszlású, átlaga 13, szórása 6, és olyan hosszúságú, mint az eredeti y adatsorounk\n",
        "y_2 =  np.random.normal(13, scale=6, size=y.shape) \n",
        "plt.plot(x, y)\n",
        "plt.plot(x, y_2)\n",
        "plt.xlabel('Elem indexe')\n",
        "plt.xticks(x)\n",
        "plt.ylabel('Érték')\n",
        "plt.show()"
      ],
      "execution_count": null,
      "outputs": []
    },
    {
      "cell_type": "code",
      "metadata": {
        "id": "vpvGKTirew-O"
      },
      "source": [
        "#Ábrázoljuk a két változó eloszlását hisztogramon\n",
        "figure, axs = plt.subplots(2, sharex=True, sharey=True)\n",
        "axs[0].hist(y)\n",
        "axs[0].set(ylabel='Gyakoriság')\n",
        "axs[1].hist(y_2)\n",
        "axs[1].set(xlabel='Érték', ylabel='Gyakoriság')\n",
        "plt.show()"
      ],
      "execution_count": null,
      "outputs": []
    },
    {
      "cell_type": "code",
      "metadata": {
        "id": "i6yehqOLc4Mc"
      },
      "source": [
        "plt.boxplot([y, y_2], labels=['Adatsor1', 'Adatsor2'])\n",
        "plt.ylabel('Érték')\n",
        "plt.show()"
      ],
      "execution_count": null,
      "outputs": []
    },
    {
      "cell_type": "code",
      "metadata": {
        "id": "KV1mvrZyeeFj"
      },
      "source": [
        ""
      ],
      "execution_count": null,
      "outputs": []
    }
  ]
}