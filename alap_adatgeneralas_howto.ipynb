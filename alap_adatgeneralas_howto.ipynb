{
  "nbformat": 4,
  "nbformat_minor": 0,
  "metadata": {
    "colab": {
      "name": "alap_adatgeneralas_howto.ipynb",
      "provenance": [],
      "collapsed_sections": [
        "2OyT4wD-Ku3q",
        "KjG65AqsKeot",
        "5I03dAOBkdra",
        "5vBnNJFoO-g2",
        "iXpOLULWck_d",
        "V73a9N6qdkaZ",
        "TheyR-i6c1Pv",
        "WGFXxebVPXSQ",
        "YCn2J-t5e2x8",
        "rgLKxF0KfQlQ",
        "ABpbZe_Zmc02"
      ],
      "authorship_tag": "ABX9TyPVWNXjvdFsL/WJYL/Wopbp",
      "include_colab_link": true
    },
    "kernelspec": {
      "name": "python3",
      "display_name": "Python 3"
    }
  },
  "cells": [
    {
      "cell_type": "markdown",
      "metadata": {
        "id": "view-in-github",
        "colab_type": "text"
      },
      "source": [
        "<a href=\"https://colab.research.google.com/github/zs-nemecz/ExperimentalMethodsClass/blob/master/alap_adatgeneralas_howto.ipynb\" target=\"_parent\"><img src=\"https://colab.research.google.com/assets/colab-badge.svg\" alt=\"Open In Colab\"/></a>"
      ]
    },
    {
      "cell_type": "markdown",
      "metadata": {
        "id": "o4o-qk8LlEEZ"
      },
      "source": [
        "# Adatgenerálás normál eloszlás szerint\n",
        "A numpy (rövidítése itt np) könyvtár random.normal módszerét lehet normál eloszlású adat generálására használni. \n",
        "\n",
        "Inputok:\n",
        "\n",
        "*   loc = középérték\n",
        "*   scale = szórás\n",
        "*   size = a mintaelemszám\n",
        "\n",
        "Ha kerek számokra van szükségünk, akkor pl. az .astype(int) módszerrel kerekíthetünk az értékeken.\n",
        "\n",
        "**Figyeljetek, hogy a generált adat megfelel-e az elvárásaitoknak (pl. vannak-e értékek az elméleti maximum érték felett).**\n",
        "\n",
        "\n",
        "\n",
        "\n"
      ]
    },
    {
      "cell_type": "code",
      "metadata": {
        "id": "BpMHgVknbyKt"
      },
      "source": [
        "# Könyvtárak és modulok impoortálása\n",
        "import numpy as np # adatgenerálás, adattömbök\n",
        "import scipy.stats as sp # statisztika\n",
        "import matplotlib.pyplot as plt # ábrák\n",
        "np.random.seed(999999)"
      ],
      "execution_count": 4,
      "outputs": []
    },
    {
      "cell_type": "code",
      "metadata": {
        "id": "4Xh4qeLBDR5m",
        "colab": {
          "base_uri": "https://localhost:8080/"
        },
        "outputId": "b15279ff-462d-4164-ac86-8d3dae56d6f0"
      },
      "source": [
        "# Bemenetek meghatározása\n",
        "kozepertek = 15\n",
        "szoras = 4\n",
        "elemszam = 30\n",
        "# Adatgenerálás\n",
        "minta = np.random.normal(loc=kozepertek,scale=szoras,size=elemszam)\n",
        "# Kerekítés\n",
        "minta = minta.astype(int)\n",
        "# A minta értékeinek kiírása\n",
        "print(minta)\n"
      ],
      "execution_count": 3,
      "outputs": [
        {
          "output_type": "stream",
          "text": [
            "[10 10 13 15 20 20 17 10 23 16 11 16 17  8 18 14  5 17 10  9 16 17 15 17\n",
            " 12 13 10 16 15 16]\n"
          ],
          "name": "stdout"
        }
      ]
    },
    {
      "cell_type": "markdown",
      "metadata": {
        "id": "ltAxaDfbdXlQ"
      },
      "source": [
        "# Kategorikus változó generálása\n",
        "A numpy könyvtár numpy.random.choice funkciójával. \n",
        "Inputok:\n",
        "*    kategóriák meghatározása\n",
        "*    size = mintaelemszám"
      ]
    },
    {
      "cell_type": "code",
      "metadata": {
        "id": "8ARAJ6dld8LK",
        "colab": {
          "base_uri": "https://localhost:8080/",
          "height": 69
        },
        "outputId": "81b6223b-a597-43f2-9439-641407ec15e5"
      },
      "source": [
        "# Bemenetek meghatározása\n",
        "nemek = [\"nő\", \"férni\"]\n",
        "elemszam = 30\n",
        "# Adatgenerálás\n",
        "minta = np.random.choice(nemek, size=elemszam)\n",
        "print(minta)"
      ],
      "execution_count": null,
      "outputs": [
        {
          "output_type": "stream",
          "text": [
            "['nő' 'férni' 'férni' 'férni' 'nő' 'férni' 'nő' 'nő' 'férni' 'nő' 'nő'\n",
            " 'nő' 'nő' 'nő' 'nő' 'férni' 'nő' 'férni' 'nő' 'nő' 'férni' 'férni'\n",
            " 'férni' 'férni' 'nő' 'nő' 'férni' 'nő' 'férni' 'férni']\n"
          ],
          "name": "stdout"
        }
      ]
    },
    {
      "cell_type": "markdown",
      "metadata": {
        "id": "wkBgY-7jey3S"
      },
      "source": [
        "# Egyéb eloszlások\n",
        "Nem csak normál, hanem sok más eloszlás szerint lehet adatot generálni.\n",
        "A dokumentációt itt találjátok: https://docs.scipy.org/doc/numpy-1.15.0/reference/routines.random.html\n",
        "\n",
        "Minden eloszlás más-más bemenetet kíván, így át kell hozzá nézni az adott dokumentációt."
      ]
    },
    {
      "cell_type": "code",
      "metadata": {
        "id": "APj0srsMeLBe"
      },
      "source": [
        ""
      ],
      "execution_count": null,
      "outputs": []
    }
  ]
}