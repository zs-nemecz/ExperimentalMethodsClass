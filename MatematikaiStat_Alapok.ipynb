{
  "nbformat": 4,
  "nbformat_minor": 0,
  "metadata": {
    "colab": {
      "name": "MatematikaiStat_Alapok.ipynb másolata",
      "provenance": [],
      "collapsed_sections": [
        "iXpOLULWck_d",
        "V73a9N6qdkaZ",
        "TheyR-i6c1Pv",
        "WGFXxebVPXSQ",
        "YCn2J-t5e2x8",
        "rgLKxF0KfQlQ",
        "ABpbZe_Zmc02"
      ],
      "authorship_tag": "ABX9TyNzEu6dRjYIyxEeOtvpRwc2",
      "include_colab_link": true
    },
    "kernelspec": {
      "name": "python3",
      "display_name": "Python 3"
    }
  },
  "cells": [
    {
      "cell_type": "markdown",
      "metadata": {
        "id": "view-in-github",
        "colab_type": "text"
      },
      "source": [
        "<a href=\"https://colab.research.google.com/github/zs-nemecz/ExperimentalMethodsClass/blob/master/MatematikaiStat_Alapok.ipynb\" target=\"_parent\"><img src=\"https://colab.research.google.com/assets/colab-badge.svg\" alt=\"Open In Colab\"/></a>"
      ]
    },
    {
      "cell_type": "markdown",
      "metadata": {
        "id": "o4o-qk8LlEEZ"
      },
      "source": [
        "# Null-hipotézis tesztelés\n",
        "\n",
        "**Mekkora a valószínűsége annak, hogy ezt az adatot kaptam, azt feltételezve, hogy a null-hipotézis igaz?** \n",
        "\n",
        "Vagy: elég valószínűtlen ez az adat ahhoz, hogy elvessem a null-hipotézist?\n",
        "\n",
        "Menete:\n",
        "\n",
        "1. Az adatgyűjtés és adatelemzés előtt a kutatási hipotézis megfogalmazása: Mi a jóslatom?\n",
        "2. A hipotézis szempontjából releváns adatok gyűjtése.\n",
        "3. A null-hipotézis és az alternatív hipotézis megszabása.\n",
        "4. Az alternatív hipotézisnek megfelelő modell illesztése az adathoz, és a teszt-statisztika kiszámítása (pl. t érték, F érték).\n",
        "5. Mi a valószínűsége a kapott teszt statisztikának, ha a null-hipotézis igaz?\n",
        "6. A 'statisztikai szignifikancia' megállapítása (p<0.05?)\n",
        "\n",
        "(forrás: [Russel Poldrack - Statistical Thinking for the 21st Century](https://statsthinking21.github.io/statsthinking21-core-site/hypothesis-testing.html))\n",
        "\n",
        "Gyakran használt tesztek: t-teszt, ANOVA és ezek nem-parametrikus változatai. "
      ]
    },
    {
      "cell_type": "markdown",
      "metadata": {
        "id": "97gWx6ekumBj"
      },
      "source": [
        "# A megfelelő teszt kiválasztása\n",
        "\n",
        "1. Mennyi független változóm van?\n",
        "2. A kategorikus független változónak mennyi szintje van?\n",
        "3. Függetlenek egymástól a kategórikus változó szintjei?\n",
        "4. Megegyezik a variancia az egyes kategóriákban?\n",
        "5. Normális eloszlásból származik a minta?"
      ]
    },
    {
      "cell_type": "code",
      "metadata": {
        "id": "BpMHgVknbyKt"
      },
      "source": [
        "# Könyvtárak és modulok impoortálása\n",
        "import numpy as np # adatgenerálás, adattömbök\n",
        "import scipy.stats as sp # statisztika\n",
        "import matplotlib.pyplot as plt # ábrák\n",
        "np.random.seed(123456) #random seed rögzítése, hogy ugyanazokat a mintákat kapjuk "
      ],
      "execution_count": null,
      "outputs": []
    },
    {
      "cell_type": "code",
      "metadata": {
        "id": "lmedPfNcKEQW"
      },
      "source": [
        "plt.rcParams[\"figure.figsize\"] = (15,7) # az alapértelmezett ábra nagyságának beállítása\n",
        "plt.rcParams['lines.markersize'] = 10 # az alapértelmezett jelölő (pont/csillag az ábrán) méret beállítása"
      ],
      "execution_count": null,
      "outputs": []
    },
    {
      "cell_type": "markdown",
      "metadata": {
        "id": "-gHFeUr_WGjf"
      },
      "source": [
        "#0. Példák"
      ]
    },
    {
      "cell_type": "markdown",
      "metadata": {
        "id": "jDVspQuhwZtM"
      },
      "source": [
        "##Egy-mintás t-próba\n",
        "\n",
        "1. Mennyi kategorikus független változóm van? **1**\n",
        "2. A kategorikus független változónak mennyi szintje van? **1**\n",
        "3. Függetlenek egymástól a kategórikus változó szintjei? **-**\n",
        "4. Megegyezik a variancia az egyes kategóriákban? **-**\n",
        "5. Normális eloszlásból származik a minta? **igen**\n",
        "\n",
        "Példa: Korábbi kutatások szerint a populációban a WAIS-IV IQ teszten elért átlag pontszám 100.\n",
        "Egy középiskola érettségiző diákjaival felveszem az IQ tesztet, és megvizsgálom, az átlaguk eltér-e a populáció átlagtól."
      ]
    },
    {
      "cell_type": "markdown",
      "metadata": {
        "id": "TFa_V5VYIMMB"
      },
      "source": [
        "###Adatgenerálás"
      ]
    },
    {
      "cell_type": "code",
      "metadata": {
        "id": "4Xh4qeLBDR5m"
      },
      "source": [
        "# az adatsor, ami az IQ teszten elért pontokat tartalmazza:\n",
        "sample_school = np.random.normal(107,15, size=21).astype(int)\n",
        "print(sample_school)\n",
        "# a populáció átlag meghatározása:\n",
        "population_mean = 100"
      ],
      "execution_count": null,
      "outputs": []
    },
    {
      "cell_type": "markdown",
      "metadata": {
        "id": "uSiaX5WBIZ_3"
      },
      "source": [
        "###Hisztogram"
      ]
    },
    {
      "cell_type": "code",
      "metadata": {
        "id": "I7A-3CsXDSIW"
      },
      "source": [
        "# nézzünk rá az IQ pontok eloszlására a mintában - milyennek tűnik az eloszlás?\n",
        "plt.hist(sample_school)\n",
        "plt.xlabel('IQ Scores')\n",
        "plt.ylabel('Frequency')\n",
        "# jelöljük a populáció átlagot piros csillaggal a hisztogramon:\n",
        "plt.plot(population_mean, 1,'r*')\n",
        "plt.show()# az ábra kirajzolása"
      ],
      "execution_count": null,
      "outputs": []
    },
    {
      "cell_type": "markdown",
      "metadata": {
        "id": "otXet0wJ6028"
      },
      "source": [
        "###Eltér az eloszlás a normáltól?\n",
        "\n",
        "Ehhez is el tudok végezni egy statisztikai tesztet, például a scipy.stats.normaltest() funkcióval. https://docs.scipy.org/doc/scipy/reference/generated/scipy.stats.normaltest.html"
      ]
    },
    {
      "cell_type": "code",
      "metadata": {
        "id": "GfyvrhbJDSWw"
      },
      "source": [
        "# teszteljük, hogy az eloszlás szignifikánsan eltér-e a normál eloszlástól:\n",
        "s_k, p = sp.normaltest(sample_school) # ez a teszt csak n>20 ad érvényes eredményt\n",
        "if p < 0.05:\n",
        "  print('Az eloszlás szignifikánsan eltér a normáltól')\n",
        "else:\n",
        "  print('Az eloszlás nem tér el a normáltól.')"
      ],
      "execution_count": null,
      "outputs": []
    },
    {
      "cell_type": "markdown",
      "metadata": {
        "id": "2_sCabpP7ZXz"
      },
      "source": [
        "### scipy.stats.ttest_1samp() - Egymintás t-teszt\n",
        "https://docs.scipy.org/doc/scipy/reference/generated/scipy.stats.ttest_1samp.html\n"
      ]
    },
    {
      "cell_type": "code",
      "metadata": {
        "id": "ugaSikAewxMq"
      },
      "source": [
        "t_val, p_val = sp.ttest_1samp(sample_school, population_mean)\n",
        "print('Az egy-mintás t-próba eredménye:\\n\\n t-érték: {}\\t p-érték: {} '.format(t_val, p_val))"
      ],
      "execution_count": null,
      "outputs": []
    },
    {
      "cell_type": "markdown",
      "metadata": {
        "id": "UpKkeQ9k8CQO"
      },
      "source": [
        "### Az elméleti populáció és a minta összehasonlítása"
      ]
    },
    {
      "cell_type": "code",
      "metadata": {
        "id": "uBxIoTjF8Lpu"
      },
      "source": [
        "population = np.random.normal(100,15, size=1000).astype(int)\n",
        "plt.hist(sample_school, alpha=0.7, density=True, label='class')\n",
        "plt.hist(population, alpha=0.7,density=True, label='population')\n",
        "plt.xlabel('IQ Scores')\n",
        "plt.ylabel('Frequency')\n",
        "plt.legend()\n",
        "plt.show()"
      ],
      "execution_count": null,
      "outputs": []
    },
    {
      "cell_type": "markdown",
      "metadata": {
        "id": "n-8gk8ZezLwU"
      },
      "source": [
        "##Független mintás t-próba\n",
        "1. Mennyi kategorikus független változóm van? **1**\n",
        "2. A kategorikus független változónak mennyi szintje van? **2**\n",
        "3. Függetlenek egymástól a kategórikus változó szintjei? **igen**\n",
        "4. Megegyezik a variancia az egyes kategóriákban? **igen**\n",
        "5. Normális eloszlásból származik a minta? **igen**\n",
        "\n",
        "Példa: Egy klinikai (pl. depressziós) és egy kontroll-csoport munkamemória teljesítményét hasonlítom össze számterjedelem feladattal. A klinikai minta átlaga 6.8, szórása 2.2. A kontroll-csoport átlaga 7.6, a szórás 1.8. Mindkét csoportban 50-50 résztvevő van. "
      ]
    },
    {
      "cell_type": "markdown",
      "metadata": {
        "id": "wVd87RD3ITlM"
      },
      "source": [
        "###Adatgenerálás"
      ]
    },
    {
      "cell_type": "code",
      "metadata": {
        "id": "AhR6qtmxEyQR"
      },
      "source": [
        "# a klinikai és kontoll minták meghatározása:\n",
        "clinical_sample = np.random.normal(6.8,2.2, size=50).astype(int)\n",
        "control_sample = np.random.normal(7.6,1.8, size=50).astype(int)\n",
        "print(clinical_sample)\n",
        "print(control_sample)"
      ],
      "execution_count": null,
      "outputs": []
    },
    {
      "cell_type": "markdown",
      "metadata": {
        "id": "Y79EZ6YHIfnK"
      },
      "source": [
        "###Hisztogram"
      ]
    },
    {
      "cell_type": "code",
      "metadata": {
        "id": "4fmXT3U4Eyfh"
      },
      "source": [
        "# nézzünk rá a számterjedelem eloszlására a két mintában - milyennek tűnik az eloszlás?\n",
        "# eltér a két minta szórása?\n",
        "figure, axs = plt.subplots(1,3, sharex=True, sharey=True) # az ábra váza\n",
        "axs[0].hist(clinical_sample, color='r')\n",
        "axs[0].set_title('Clinical Sample')\n",
        "axs[1].hist(control_sample, color='b')\n",
        "axs[1].set_title('Control Sample')\n",
        "axs[2].hist(clinical_sample, color='r', alpha = 0.7)\n",
        "axs[2].hist(control_sample, color='b', alpha = 0.7)\n",
        "axs[2].set_title('Both Samples')\n",
        "for ax in axs:\n",
        "  ax.set_xlabel('Digit Span')\n",
        "  ax.set_ylabel('Frequency')\n",
        "plt.show()"
      ],
      "execution_count": null,
      "outputs": []
    },
    {
      "cell_type": "markdown",
      "metadata": {
        "id": "0Bvo22Nc_hzG"
      },
      "source": [
        "###Eltér az eloszlás a normáltól?"
      ]
    },
    {
      "cell_type": "code",
      "metadata": {
        "id": "8gEGqIlwEyrF"
      },
      "source": [
        "# teszteljük, hogy az eloszlás szignifikánsan eltér-e a normál eloszlástól:\n",
        "for sample, sample_name in zip([control_sample, clinical_sample], ['Kontroll', 'Klinikai']):\n",
        "  s_k, p = sp.normaltest(sample) # ez a teszt csak n>20 ad érvényes eredményt\n",
        "  if p < 0.05:\n",
        "    print('{} minta: Az eloszlás szignifikánsan eltér a normáltól.'.format(sample_name))\n",
        "  else:\n",
        "    print('{} minta: Az eloszlás nem tér el a normáltól.'.format(sample_name))"
      ],
      "execution_count": null,
      "outputs": []
    },
    {
      "cell_type": "markdown",
      "metadata": {
        "id": "t9oAjoqr_jz1"
      },
      "source": [
        "###A varianciák megegyeznek?\n",
        "Ehhez Levene tesztet végzünk. https://docs.scipy.org/doc/scipy-0.14.0/reference/generated/scipy.stats.levene.html"
      ]
    },
    {
      "cell_type": "code",
      "metadata": {
        "id": "XbIkqVZg-EsJ"
      },
      "source": [
        "w, p = sp.levene(control_sample, clinical_sample)\n",
        "if p < 0.05:\n",
        "  print('A Levene teszt alapján a minták két különböző varianciájú populációból származnak.')\n",
        "else:\n",
        "    print('A Levene teszt alapján a minták egyenlö varianciájú populációból származnak.')"
      ],
      "execution_count": null,
      "outputs": []
    },
    {
      "cell_type": "markdown",
      "metadata": {
        "id": "jtsOewvC_rlf"
      },
      "source": [
        "###scipy.stats.ttest_ind() - Független mintás t-próba\n",
        "https://docs.scipy.org/doc/scipy/reference/generated/scipy.stats.ttest_ind.html"
      ]
    },
    {
      "cell_type": "code",
      "metadata": {
        "id": "AnxBU2P8zFOd"
      },
      "source": [
        "# ha minden rendben, végezzük el a független mintás t-próbát\n",
        "t_val, p_val = sp.ttest_ind(clinical_sample,control_sample)\n",
        "print('A független mintás t-próba eredménye:\\n\\n t-érték: {}\\t p-érték: {} '.format(t_val, p_val))"
      ],
      "execution_count": null,
      "outputs": []
    },
    {
      "cell_type": "code",
      "metadata": {
        "id": "1qtqflXuFkoy"
      },
      "source": [
        "# nézzük meg a két minta értékeit boxplot ábrán is\n",
        "plt.boxplot([control_sample, clinical_sample], labels=['Control', 'Clinical'])\n",
        "plt.ylabel('Digit Span')\n",
        "plt.show()"
      ],
      "execution_count": null,
      "outputs": []
    },
    {
      "cell_type": "markdown",
      "metadata": {
        "id": "Z4O8sDRW1_1x"
      },
      "source": [
        "##Összetartozó mintás t-próba\n",
        "1. Mennyi kategorikus független változóm van? **1**\n",
        "2. A kategorikus független változónak mennyi szintje van? **2**\n",
        "3. Függetlenek egymástól a kategórikus változó szintjei? **nem**\n",
        "4. Megegyezik a variancia az egyes kategóriákban? **igen**\n",
        "5. Normális eloszlásból származik a minta? **igen**\n",
        "\n",
        "Példa: Babák nézési idejét vizsgáljuk, mikor olyan filmet néznek, amelyben a főhős a segítő karakter választja, és amikor az akadályozó karaktert választja. (Mint a Hamlin 2007). Ugyanazokat a babákat vizsgáljuk mindkét helyzetben."
      ]
    },
    {
      "cell_type": "markdown",
      "metadata": {
        "id": "HfiyQCHHIVTB"
      },
      "source": [
        "###Adatgenerálás"
      ]
    },
    {
      "cell_type": "code",
      "metadata": {
        "id": "t0zeVsAjIaZU"
      },
      "source": [
        "# a nézési idők meghatározása a két csoportban:\n",
        "sample_helper = np.random.normal(10,5.8, size=16)\n",
        "lookingtime_relationship = np.random.normal(1.2,0.4, size=sample_helper.shape)\n",
        "sample_hinderer = sample_helper * lookingtime_relationship\n",
        "print(sample_helper)\n",
        "print(sample_hinderer)"
      ],
      "execution_count": null,
      "outputs": []
    },
    {
      "cell_type": "markdown",
      "metadata": {
        "id": "49e5KfuAIhn5"
      },
      "source": [
        "###Az adatok személése"
      ]
    },
    {
      "cell_type": "code",
      "metadata": {
        "id": "7VVJN3WbIakf"
      },
      "source": [
        "# ábrák:\n",
        "# 3 ábrtát szeretnék \n",
        "#-egyet a nézési idők összefüggésének\n",
        "#-egyet a nézési idők hisztogramjának a 2 kondícióban\n",
        "#-egyet a boxplotnak, amin mindkét kondíciót látom\n",
        "figure, axs = plt.subplots(1,3)\n",
        "axs[0].plot(sample_helper, sample_hinderer, 'ko')\n",
        "axs[0].set_title('Relationship between looking times')\n",
        "axs[0].set_ylabel('Looking time - Hinderer condition')\n",
        "axs[0].set_xlabel('Looking time - Helper condition')\n",
        "axs[1].hist(sample_helper, color='r', alpha=0.7)\n",
        "axs[1].hist(sample_hinderer, color='b', alpha=0.7)\n",
        "axs[1].set_title('Histograms of looking times per condition')\n",
        "axs[1].set_xlabel('Looking Time (s)')\n",
        "axs[1].set_ylabel('Frequency')\n",
        "axs[2].boxplot([sample_helper, sample_hinderer], labels=['Helper','Hinderer'])\n",
        "axs[1].set_title('Looking time difference between conditions')\n",
        "axs[2].set_ylabel('Looking Time (s)')\n",
        "plt.show()"
      ],
      "execution_count": null,
      "outputs": []
    },
    {
      "cell_type": "markdown",
      "metadata": {
        "id": "7lNhPF6sCRJb"
      },
      "source": [
        "###Eltér az eloszlás a normáltól?"
      ]
    },
    {
      "cell_type": "code",
      "metadata": {
        "id": "_pJCK3ZqBoDb"
      },
      "source": [
        "# teszteljük, hogy az eloszlás szignifikánsan eltér-e a normál eloszlástól:\n",
        "# figyeljük meg, milyen figyelmeztetést kapunk!\n",
        "for sample, sample_name in zip([sample_hinderer, sample_helper], ['Hátráltató', 'Segítő']):\n",
        "  s_k, p = sp.normaltest(sample) # ez a teszt csak n>20 ad érvényes eredményt\n",
        "  if p < 0.05:\n",
        "    print('{} minta: Az eloszlás szignifikánsan eltér a normáltól.'.format(sample_name))\n",
        "  else:\n",
        "    print('{} minta: Az eloszlás nem tér el a normáltól.'.format(sample_name))"
      ],
      "execution_count": null,
      "outputs": []
    },
    {
      "cell_type": "markdown",
      "metadata": {
        "id": "UMoohfgOCU5g"
      },
      "source": [
        "###A varianciák megegyeznek?\n",
        "Ehhez Levene tesztet végzünk. https://docs.scipy.org/doc/scipy-0.14.0/reference/generated/scipy.stats.levene.html"
      ]
    },
    {
      "cell_type": "code",
      "metadata": {
        "id": "RfXTF0OACZDo"
      },
      "source": [
        "w, p = sp.levene(sample_helper, sample_hinderer)\n",
        "if p < 0.05:\n",
        "  print('A Levene teszt alapján a minták két különböző varianciájú populációból származnak.')\n",
        "else:\n",
        "    print('A Levene teszt alapján a minták egyenlő varianciájú populációból származnak.')"
      ],
      "execution_count": null,
      "outputs": []
    },
    {
      "cell_type": "markdown",
      "metadata": {
        "id": "I4syRxUrCuVR"
      },
      "source": [
        "###scipy.stats.ttest_rel() - Összetartozó mintás t-próba\n",
        "https://docs.scipy.org/doc/scipy/reference/generated/scipy.stats.ttest_ind.html"
      ]
    },
    {
      "cell_type": "code",
      "metadata": {
        "id": "PKd5xwfu33Di"
      },
      "source": [
        "# ha minden rendben, akkor elvégzem a t-tesztet:\n",
        "t_val, p_val = sp.ttest_rel(sample_helper, sample_hinderer)\n",
        "print('Az összetartozó mintás t-próba eredménye:\\n\\n t-érték: {}\\t p-érték: {} '.format(t_val, p_val))"
      ],
      "execution_count": null,
      "outputs": []
    },
    {
      "cell_type": "markdown",
      "metadata": {
        "id": "PH9t-mu4bVpX"
      },
      "source": [
        "##Egyszempontos varianciaelemzés (One-Way ANOVA)\n",
        "Példa: Három korcsoport életminőségét vizsgáljuk egy kérdőívvel.\n",
        "1. Mennyi kategorikus független változóm van? **1**\n",
        "2. A kategorikus független változónak hány szintje van? **2 vagy több**\n",
        "3. Függetlenek egymástól a kategórikus változó szintjei? **igen**\n",
        "4. Megegyezik a variancia az egyes kategóriákban? **igen**\n",
        "5. Normális eloszlásból származik a minta? **igen**"
      ]
    },
    {
      "cell_type": "markdown",
      "metadata": {
        "id": "qKn7lbYyIWpQ"
      },
      "source": [
        "###Adatgenerálás"
      ]
    },
    {
      "cell_type": "code",
      "metadata": {
        "id": "lXoNrP1ia9Gg"
      },
      "source": [
        "# az életminőségi értékek meghatározása a 3 csoportban:\n",
        "sample_young_adult = np.random.normal(40,5.8, size=50)\n",
        "sample_middle_age = np.random.normal(36,5.1, size=50)\n",
        "sample_old_adult = np.random.normal(43,6.2, size=50)"
      ],
      "execution_count": null,
      "outputs": []
    },
    {
      "cell_type": "markdown",
      "metadata": {
        "id": "JqTRS7xEIoHT"
      },
      "source": [
        "###Az adatok személése"
      ]
    },
    {
      "cell_type": "code",
      "metadata": {
        "id": "fIrTOw-wa9Qt"
      },
      "source": [
        "# ábrázoljuk a 3 csoportban az életminőség eloszlását hisztogrammal\n",
        "figure, axs = plt.subplots(1,3, sharex=True, sharey=True)\n",
        "axs[0].hist(sample_young_adult)\n",
        "axs[0].set_title('Young adults')\n",
        "axs[1].hist(sample_middle_age)\n",
        "axs[1].set_title('Middle aged adults')\n",
        "axs[2].hist(sample_old_adult)\n",
        "axs[2].set_title('Older adults')\n",
        "for ax in axs:\n",
        "  ax.set_xlabel('Quality of life Scores')\n",
        "  ax.set_ylabel('Frequency')\n",
        "plt.show()"
      ],
      "execution_count": null,
      "outputs": []
    },
    {
      "cell_type": "markdown",
      "metadata": {
        "id": "BxQNHQkEEa2w"
      },
      "source": [
        "###Eltér az eloszlás a normáltól?"
      ]
    },
    {
      "cell_type": "code",
      "metadata": {
        "id": "pi4ja1BMa9az"
      },
      "source": [
        "# ellenőrizzük, hogy egyik csoportban sem tér el az életminőség eloszlás a normális eloszlástól\n",
        "samples_and_names = zip([sample_young_adult, sample_middle_age, sample_old_adult], ['Fiatal', 'Középkorú', 'Idős'])\n",
        "for sample, sample_name in samples_and_names:\n",
        "  s_k, p = sp.normaltest(sample) # ez a teszt csak n>20 ad érvényes eredményt\n",
        "  if p < 0.05:\n",
        "    print('{} minta: Az eloszlás szignifikánsan eltér a normáltól.'.format(sample_name))\n",
        "  else:\n",
        "    print('{} minta: Az eloszlás nem tér el a normáltól.'.format(sample_name))"
      ],
      "execution_count": null,
      "outputs": []
    },
    {
      "cell_type": "markdown",
      "metadata": {
        "id": "fO5_2HoqEfk4"
      },
      "source": [
        "###A varianciák megegyeznek?\n",
        "Ehhez Levene tesztet végzünk. https://docs.scipy.org/doc/scipy-0.14.0/reference/generated/scipy.stats.levene.html"
      ]
    },
    {
      "cell_type": "code",
      "metadata": {
        "id": "crARzHTlEjMS"
      },
      "source": [
        "w, p = sp.levene(sample_young_adult, sample_middle_age, sample_old_adult)\n",
        "if p < 0.05:\n",
        "  print('A Levene teszt alapján a minták két különböző varianciájú populációból származnak.')\n",
        "else:\n",
        "    print('A Levene teszt alapján a minták egyenlő varianciájú populációból származnak.')"
      ],
      "execution_count": null,
      "outputs": []
    },
    {
      "cell_type": "markdown",
      "metadata": {
        "id": "t8gU-y8-Es-E"
      },
      "source": [
        "###Doboz és oszlopdiagramok"
      ]
    },
    {
      "cell_type": "code",
      "metadata": {
        "id": "T9_dO0szdPIe"
      },
      "source": [
        "# ábrázoljuk az adatokat oszlopdiagrammal, és dobozdiagrammal is.\n",
        "# az oszlopdiagramhoz először ki kell számolnom az átlagokat, és meg kell\n",
        "# határoznom, ezek hol legyenek az x tengelyen\n",
        "mean_young = np.mean(sample_young_adult)\n",
        "mean_middle = np.mean(sample_middle_age)\n",
        "mean_old = np.mean(sample_old_adult)\n",
        "# az átlagokat listába gyűjtöm a könnyebb kezelhetőség érdekében\n",
        "means = [mean_young, mean_middle, mean_old] \n",
        "\n",
        "x = [1,2,3]\n",
        "\n",
        "# elkészítem az ábra vázát, 1 sorban 2 al-ábrával:\n",
        "figure, axs = plt.subplots(1,2, sharex=True, sharey=True)\n",
        "\n",
        "# oszlopdiagram\n",
        "axs[0].bar(x, means)\n",
        "axs[0].set_title('Group Averages')\n",
        "\n",
        "# dobozdiagram\n",
        "axs[1].boxplot([sample_young_adult, sample_middle_age, sample_old_adult])\n",
        "axs[1].set_title('Median Values and Deviation per Group')\n",
        "\n",
        "# adjuk meg a csoportok címkéit, és az y tengely értékét\n",
        "plt.xticks(x, ('Young', 'Middle Age', 'Older'))\n",
        "for ax in axs:\n",
        "  ax.set_ylabel('Quality of Life - Raw Points')\n",
        "plt.show()"
      ],
      "execution_count": null,
      "outputs": []
    },
    {
      "cell_type": "markdown",
      "metadata": {
        "id": "ufVOFE6LE1yQ"
      },
      "source": [
        "###scipy.stats.f_oneway() - Egyszempontos varianciaelemzés\n",
        "https://docs.scipy.org/doc/scipy/reference/generated/scipy.stats.f_oneway.html"
      ]
    },
    {
      "cell_type": "code",
      "metadata": {
        "id": "TgIoxt8VcfPC"
      },
      "source": [
        "# ha minden rendben, akkor elvégzem a varianciaelemzést:\n",
        "f_val, p_val = sp.f_oneway(sample_young_adult, sample_middle_age, sample_old_adult)\n",
        "print('Az egyszempontos varianciaelemzés eredménye:\\n\\n t-érték: {}\\t p-érték: {:f} '.format(f_val, p_val))"
      ],
      "execution_count": null,
      "outputs": []
    },
    {
      "cell_type": "markdown",
      "metadata": {
        "id": "O7oYc1xIjocB"
      },
      "source": [
        "### 0.1. Feladat\n",
        "Ha szignifikáns eredményt kapok a varianciaelemzésen, abból még nem derül ki, melyik két csoport között mutatkozik különbség. Ehhez post-hoc tesztet kell végeznem. Az eddig bemutatott statiszkiai próbák közül melyik lenne erre alkalmas?\n",
        "\n",
        "Végezd el a post-hoc összehasonlításokat a csoportok között:\n",
        "1. fiatal és középkorú\n",
        "2. középkorú és idős\n",
        "3. fiatal és idős csoport"
      ]
    },
    {
      "cell_type": "code",
      "metadata": {
        "id": "5H88jlJ4h0Y9"
      },
      "source": [
        "# Young vs Middle Aged \n",
        "\n",
        "\n",
        "# Middle Aged vs Older\n",
        "\n",
        "\n",
        "#Young vs Older"
      ],
      "execution_count": null,
      "outputs": []
    },
    {
      "cell_type": "markdown",
      "metadata": {
        "id": "66nRy2G1lDKi"
      },
      "source": [
        "Vigyázz! Mivel 3 tesztet végzel, az eredményt korrigálni kell.\n",
        "A Bonferroni korrekció szerint, az eredeti szignifikaciaszintet három próba elvégzése után harmadára kell csökkenteni.\n",
        "\n",
        "Az eredeti szignifikanciaszint: p < 0.05\n",
        "\n",
        "A tesztek száma: 3\n",
        "\n",
        "Az új, Bonferroni korrigált szignifikancia szint: 0.01666.\n",
        "A post-hoc próbák eredménye csak akkor 'szignifikáns', ha p értéke kisebb, mint 0.0166."
      ]
    },
    {
      "cell_type": "code",
      "metadata": {
        "id": "P7xZuX-5lppR"
      },
      "source": [
        "n_tests = 3\n",
        "p_level = 0.05\n",
        "bonf_corrected_p_level = p_level/3\n",
        "print(bonf_corrected_p_level)"
      ],
      "execution_count": null,
      "outputs": []
    },
    {
      "cell_type": "markdown",
      "metadata": {
        "id": "2OyT4wD-Ku3q"
      },
      "source": [
        "# 1. Szimuláció: Mi történik, ha **nincs valódi különbség** a két populáció átlaga között?\n",
        "\n",
        "Szimuláljunk egy esetet, amikor két populáció tagjainak egy tulajdonsága mentén valójában nincsen különbség a populációk között. \n",
        "\n",
        "Egy tudatlan kutatónak nincsen hozzáférése ehhez a populáció-szintű tudáshoz, így random mintavételezéssel és statisztikai próbákkal szertne többet kideríteni az adott tulajdonságról a populációkban.\n",
        "\n",
        "Például: Egy idegen bolygón intelligens életet találtunk. A bolygón mindössze kétféle lény él, és egyedszámuk is korlátozott, 5000 - 5000 egyed él belőlük. A bolygó társadalmának vezére pontos adminisztrációt vezet minden egyedről, amely tartalmazza a repülési segességüket is. \n",
        "\n",
        "A földi embereknek azonban nincs hozzáfárése ehhez az adatbázishoz, és a földönkívüli politikai hatalom nem szándékozik megosztani ezt velünk. Mi azonban minél jobban meg szeretnénk ismerni ezt az idegen világot. Ahhoz kaptunk jogot, hogy korlátozott mintán mérjük a bolygó lakóit. A kutatásért azonban fizetni kell, minél nagyobb mintán dolgozunk, annál drágább a kutatás. \n",
        "\n",
        "A sebességet egy 10 km hosszú röppályán mérjük, és km/h egységben regisztráljuk.\n",
        "Mindkét populációból random mintát veszünk, és független mintás t-próbával összvetjük a sebességüket."
      ]
    },
    {
      "cell_type": "markdown",
      "metadata": {
        "id": "KjG65AqsKeot"
      },
      "source": [
        "##Határozzuk meg az elméleti populációkat."
      ]
    },
    {
      "cell_type": "code",
      "metadata": {
        "id": "dTSvWhS_vIZO"
      },
      "source": [
        "np.random.seed() # minden alaklommal új populáció/minta generálása\n",
        "population_size = 5000 # tagok száma (populációnként)\n",
        "population_mean = 100 # a populáció átlag az adott tulajdonság mentén\n",
        "deviation = 20 # a szórás mindkét populációban\n",
        "\n",
        "# populáció generálás, normál eloszlás szerint\n",
        "A = np.random.normal(population_mean,deviation, size=population_size)\n",
        "B = np.random.normal(population_mean,deviation, size=population_size)"
      ],
      "execution_count": null,
      "outputs": []
    },
    {
      "cell_type": "code",
      "metadata": {
        "id": "8RN9XVKQc3Ta"
      },
      "source": [
        "# nézzük meg az eloszlást a két populációban hisztogramokon\n",
        "figure, axs = plt.subplots(1,3, sharex=True, sharey=True)\n",
        "axs[0].hist(A, color='r')\n",
        "axs[0].set_title('populáció: A')\n",
        "axs[1].hist(B, color='b')\n",
        "axs[1].set_title('populáció: B')\n",
        "axs[2].hist(A, color='r', alpha=0.7)\n",
        "axs[2].hist(B, color='b', alpha=0.7)\n",
        "axs[2].set_title('populáció: A és B')\n",
        "for ax in axs:\n",
        "  ax.set_xlabel('Sebesség (km/h)')\n",
        "  ax.set_ylabel('Gyakoriság')\n",
        "plt.show()"
      ],
      "execution_count": null,
      "outputs": []
    },
    {
      "cell_type": "markdown",
      "metadata": {
        "id": "_styaKLjKl-P"
      },
      "source": [
        "##Vegyünk mintát a populációkból."
      ]
    },
    {
      "cell_type": "code",
      "metadata": {
        "id": "6QfYoTxfzGyi"
      },
      "source": [
        "# határozzuk meg a minta elemszámát\n",
        "sample_size = 16\n",
        "# válasszunk ki random tagokat a két populációból (egy tagot csak egyszer választunk be)\n",
        "a_sample = np.random.choice(A,sample_size, replace=False)\n",
        "b_sample = np.random.choice(B,sample_size, replace=False)"
      ],
      "execution_count": null,
      "outputs": []
    },
    {
      "cell_type": "code",
      "metadata": {
        "id": "K5BBGM2tzZ-D"
      },
      "source": [
        "# nézzük meg, hogyan néz ki az eloszlás a két mintában\n",
        "figure, axs = plt.subplots(1,3, sharex=True, sharey=True)\n",
        "axs[0].hist(a_sample, color='y')\n",
        "axs[0].set_title('minta: a')\n",
        "axs[1].hist(b_sample, color='g')\n",
        "axs[1].set_title('minta: b')\n",
        "axs[2].hist(a_sample, color='y', alpha=0.7)\n",
        "axs[2].hist(b_sample, color='g', alpha=0.7)\n",
        "axs[2].set_title('minta: a és b')\n",
        "for ax in axs:\n",
        "  ax.set_xlabel('Sebesség (km/h)')\n",
        "  ax.set_ylabel('Gyakoriság')\n",
        "plt.show()"
      ],
      "execution_count": null,
      "outputs": []
    },
    {
      "cell_type": "code",
      "metadata": {
        "id": "MftXWDLPdIOQ"
      },
      "source": [
        "# ábrázoljuk, hogy a minta egyes pontjai hol helyezkednek el a hisztogram x tengelyén\n",
        "# azaz a repülési sebesség mely értékét veszik fel, és ez hogyan viszonyul az eloszláshoz a \n",
        "# populációban\n",
        "figure, axs = plt.subplots(1,3, sharex=True, sharey=True)\n",
        "\n",
        "# figyelem! itt a minta pontjainak y értékének nincs értelme! csak az \n",
        "# ábrázolás miatt van rá szükség\n",
        "sample_y_val = np.random.normal(population_size/5, population_size/50, b_sample.shape)\n",
        "axs[0].hist(A, color='r')\n",
        "axs[0].plot(a_sample, sample_y_val, 'go')\n",
        "axs[0].set_title('populáció: A')\n",
        "axs[1].hist(B, color='b')\n",
        "axs[1].plot(b_sample, sample_y_val, 'yo')\n",
        "axs[1].set_title('populáció: B')\n",
        "axs[2].hist(B, color='b', alpha=0.7)\n",
        "axs[2].hist(A, color='r', alpha=0.7)\n",
        "axs[2].plot(a_sample, sample_y_val, 'go')\n",
        "axs[2].plot(b_sample, sample_y_val, 'yo')\n",
        "axs[2].set_title('populáció: A és B')\n",
        "for ax in axs:\n",
        "  ax.set_xlabel('Sebesség (km/h)')\n",
        "  ax.set_ylabel('Gyakoriság')\n",
        "plt.show()\n"
      ],
      "execution_count": null,
      "outputs": []
    },
    {
      "cell_type": "markdown",
      "metadata": {
        "id": "ZFU0JJ58K0RX"
      },
      "source": [
        "##Hasonlítsuk össze a mintákat független mintás t-próbával."
      ]
    },
    {
      "cell_type": "code",
      "metadata": {
        "id": "MeGnloApLHZ0"
      },
      "source": [
        "t_val, p_val = sp.ttest_ind(a_sample,b_sample)\n",
        "print('A független mintás t-próba eredménye:\\n\\n t-érték: {}\\t p-érték: {} '.format(t_val, p_val))"
      ],
      "execution_count": null,
      "outputs": []
    },
    {
      "cell_type": "markdown",
      "metadata": {
        "id": "3EJa7VRfLY_O"
      },
      "source": [
        "##Mi történik, ha többször veszek mintát, és ezeket újra és újra tesztelem? Hogyan befolyásolja a minta nagysága és a tesztelés száma az eredményeket?\n",
        "\n",
        "Például: A földönkívüliek repülési sebessége jelenleg nagyon népszerű kutatási téma. 100 labor is dolgozik ezen a kérdésen. Mennyi labor talál eltérést a két lény között repülési sebességben? "
      ]
    },
    {
      "cell_type": "code",
      "metadata": {
        "id": "Kg1yUK9adm-f"
      },
      "source": [
        "t_vals = []\n",
        "p_vals = []\n",
        "n_tests = 100\n",
        "sample_size = 16\n",
        "sig_counter = 0\n",
        "for test in range(n_tests):\n",
        "  a_sample = np.random.choice(A,sample_size, replace=False)\n",
        "  b_sample = np.random.choice(B,sample_size, replace=False)\n",
        "  t_val, p_val = sp.ttest_ind(a_sample,b_sample)\n",
        "  t_vals.append(t_val)\n",
        "  p_vals.append(p_val)\n",
        "  if p_val < 0.05:\n",
        "    sig_counter = sig_counter + 1\n",
        "\n",
        "print('From {} tests, {} were signitficant, even though there is no real difference in the population mean.'.format(n_tests, sig_counter))"
      ],
      "execution_count": null,
      "outputs": []
    },
    {
      "cell_type": "code",
      "metadata": {
        "id": "dx59tsz8AzNi"
      },
      "source": [
        "#írjunk egy funkciót, ami meghatározott mintaelemszámmal n-szer lefuttatja a tesztet\n",
        "def check_my_ttest(population_A, population_B, n_tests, sample_size):\n",
        "  t_vals = []\n",
        "  p_vals = []\n",
        "  sig_counter = 0\n",
        "  for test in range(n_tests):\n",
        "    a_sample = np.random.choice(population_A,sample_size, replace=False)\n",
        "    b_sample = np.random.choice(population_B,sample_size, replace=False)\n",
        "    t_val, p_val = sp.ttest_ind(a_sample,b_sample)\n",
        "    t_vals.append(t_val)\n",
        "    p_vals.append(p_val)\n",
        "    if p_val < 0.05:\n",
        "      sig_counter = sig_counter + 1\n",
        "\n",
        "  print('From {} tests, {} were signitficant.'.format(n_tests, sig_counter))\n",
        "\n",
        "  return (t_vals, p_vals)"
      ],
      "execution_count": null,
      "outputs": []
    },
    {
      "cell_type": "code",
      "metadata": {
        "id": "Et-eAE8wDTUn"
      },
      "source": [
        "t_vals, p_vals = check_my_ttest(A,B,100,10)"
      ],
      "execution_count": null,
      "outputs": []
    },
    {
      "cell_type": "markdown",
      "metadata": {
        "id": "5I03dAOBkdra"
      },
      "source": [
        "### 1.1.1. Feladat\n",
        "Mi történik, ha többször végzed el ezt a szimulációt (100 teszt)? 100 tesztből átlagosan mennyi lesz szignifikáns, ha 10 szimulációt végzel? "
      ]
    },
    {
      "cell_type": "code",
      "metadata": {
        "id": "22QSXQgPr6ou"
      },
      "source": [
        "# az átlagszámításhoz érdemes újradefiniálni a funkciót, hogy ne a t és p értékekkel\n",
        "# térjen vissza, hanem a szignifikáns eredmények számával\n",
        "\n",
        "def check_n_significant(population_A, population_B, n_tests, sample_size): #adjunk új nevet a funkciónak\n",
        "  sig_counter = 0\n",
        "  for test in range(n_tests):\n",
        "    a_sample = np.random.choice(population_A,sample_size, replace=False)\n",
        "    b_sample = np.random.choice(population_B,sample_size, replace=False)\n",
        "    t_val, p_val = sp.ttest_ind(a_sample,b_sample)\n",
        "    if p_val < 0.05:\n",
        "      sig_counter = sig_counter + 1\n",
        "\n",
        "  print('From {} tests, {} were signitficant.'.format(n_tests, sig_counter))\n",
        "\n",
        "  return sig_counter"
      ],
      "execution_count": null,
      "outputs": []
    },
    {
      "cell_type": "code",
      "metadata": {
        "id": "Bq7553oLkbAl"
      },
      "source": [
        "# csináljunk egy for loop-ot, ami 10-szer lefuttatja a tesztet\n",
        "n_simulations = 10\n",
        "# legyen egy változó, amelyben az összes szimuláció eredményét összevonom\n",
        "n_all_sig = 0\n",
        "for i in range(n_simulations):\n",
        "  # végezzük el az adott szimulációt\n",
        "  result = check_n_significant(A, B, 100, 100) \n",
        "  # adjuk hozzá az értéket az eddigi szimulációk eredményéhez\n",
        "  n_all_sig = n_all_sig + result\n",
        "\n",
        "average_n_sig = n_all_sig / n_simulations\n",
        "print('{} szimulációval átlagosan {} szignifikáns eredményt kaptunk.'.format(n_simulations,average_n_sig))"
      ],
      "execution_count": null,
      "outputs": []
    },
    {
      "cell_type": "markdown",
      "metadata": {
        "id": "UfYEeq7gLOiB"
      },
      "source": [
        "#2. Szimuláció: Mi történik, ha **van különbség** a két populáció átlaga között?"
      ]
    },
    {
      "cell_type": "markdown",
      "metadata": {
        "id": "5vBnNJFoO-g2"
      },
      "source": [
        "## 2.1: Ha a populációk átlagukban különböznek, de a szórásuk megegyezik:"
      ]
    },
    {
      "cell_type": "code",
      "metadata": {
        "id": "6oFWUjELalpc"
      },
      "source": [
        "# határozzuk meg a két populációt, amely az adott tulajdonság mentén különbözik\n",
        "population_size = 5000\n",
        "population_mean = 100 # átlag a két populációt összevonva\n",
        "deviation = 15 # szórás az populációkban\n",
        "population_mean_difference = deviation # a különbség mértéke a populációkat összevonó átlagtól\n",
        "\n",
        "A = np.random.normal(population_mean-population_mean_difference, deviation, size=population_size)\n",
        "B = np.random.normal(population_mean+population_mean_difference, deviation, size=population_size)"
      ],
      "execution_count": null,
      "outputs": []
    },
    {
      "cell_type": "code",
      "metadata": {
        "id": "M-w0HP6SDotu"
      },
      "source": [
        "# nézzük meg, hogyan néz ki az eloszlás a két mintában\n",
        "figure, axs = plt.subplots(1,3, sharex=True, sharey=True)\n",
        "axs[0].hist(A, color='r')\n",
        "axs[0].set_title('populáció: A')\n",
        "axs[1].hist(B, color='b')\n",
        "axs[1].set_title('populáció: B')\n",
        "axs[2].hist(A, color='r', alpha=0.7)\n",
        "axs[2].hist(B, color='b', alpha=0.7)\n",
        "axs[2].set_title('populáció: A és B')\n",
        "for ax in axs:\n",
        "  ax.set_xlabel('Sebesség (km/h)')\n",
        "  ax.set_ylabel('Gyakoriság')\n",
        "plt.show()"
      ],
      "execution_count": null,
      "outputs": []
    },
    {
      "cell_type": "code",
      "metadata": {
        "id": "9QQLpI4JbdU_"
      },
      "source": [
        "# határozzuk meg a minta elemszámát\n",
        "sample_size = 16\n",
        "# válasszunk ki random tagokat a két populációból (egy tagot csak egyszer választunk be)\n",
        "a_sample = np.random.choice(A,sample_size, replace=False)\n",
        "b_sample = np.random.choice(B,sample_size, replace=False)"
      ],
      "execution_count": null,
      "outputs": []
    },
    {
      "cell_type": "code",
      "metadata": {
        "id": "5ZUSOTV_bf-S"
      },
      "source": [
        "# nézzük meg, hogyan néz ki az eloszlás a két mintában\n",
        "figure, axs = plt.subplots(1,3, sharex=True, sharey=True)\n",
        "axs[0].hist(a_sample, color='y')\n",
        "axs[0].set_title('minta: a')\n",
        "axs[1].hist(b_sample, color='g')\n",
        "axs[1].set_title('minta: b')\n",
        "axs[2].hist(a_sample, color='y', alpha=0.7)\n",
        "axs[2].hist(b_sample, color='g', alpha=0.7)\n",
        "axs[2].set_title('minta: a és b')\n",
        "for ax in axs:\n",
        "  ax.set_xlabel('Sebesség (km/h)')\n",
        "  ax.set_ylabel('Gyakoriság')\n",
        "plt.show()"
      ],
      "execution_count": null,
      "outputs": []
    },
    {
      "cell_type": "code",
      "metadata": {
        "id": "5FojzLi1L7E1"
      },
      "source": [
        "# ábrázoljuk, hogy a minta egyes pontjai hol helyezkednek el a hisztogram x tengelyén\n",
        "# azaz a repülési sebesség mely értékét veszik fel, és ez hogyan viszonyul az eloszláshoz a \n",
        "# populációban\n",
        "figure, axs = plt.subplots(1,3, sharex=True, sharey=True)\n",
        "\n",
        "# figyelem! itt a minta pontjainak y értékének nincs értelme! csak az \n",
        "# ábrázolás miatt van rá szükség\n",
        "sample_y_val = np.random.normal(population_size/5, population_size/50, b_sample.shape)\n",
        "axs[0].hist(A, color='r')\n",
        "axs[0].plot(a_sample, sample_y_val, 'go')\n",
        "axs[0].set_title('populáció: A')\n",
        "axs[1].hist(B, color='b')\n",
        "axs[1].plot(b_sample, sample_y_val, 'yo')\n",
        "axs[1].set_title('populáció: B')\n",
        "axs[2].hist(B, color='b', alpha=0.7)\n",
        "axs[2].hist(A, color='r', alpha=0.7)\n",
        "axs[2].plot(a_sample, sample_y_val, 'go')\n",
        "axs[2].plot(b_sample, sample_y_val, 'yo')\n",
        "axs[2].set_title('populáció: A és B')\n",
        "for ax in axs:\n",
        "  ax.set_xlabel('Sebesség (km/h)')\n",
        "  ax.set_ylabel('Gyakoriság')\n",
        "plt.show()"
      ],
      "execution_count": null,
      "outputs": []
    },
    {
      "cell_type": "markdown",
      "metadata": {
        "id": "iXpOLULWck_d"
      },
      "source": [
        "###Hasonlítsuk össze a mintákat független mintás t-próbával."
      ]
    },
    {
      "cell_type": "code",
      "metadata": {
        "id": "sn5OFcYZMFF8"
      },
      "source": [
        "t_val, p_val = sp.ttest_ind(a_sample,b_sample)\n",
        "print('A független mintás t-próba eredménye:\\n\\n t-érték: {}\\t p-érték: {:f} '.format(t_val, p_val))"
      ],
      "execution_count": null,
      "outputs": []
    },
    {
      "cell_type": "markdown",
      "metadata": {
        "id": "V73a9N6qdkaZ"
      },
      "source": [
        "###2.1.1. Feladat\n",
        "Ábrázold dobozdiagrammal a fenti minták közötti különbséget."
      ]
    },
    {
      "cell_type": "markdown",
      "metadata": {
        "id": "TheyR-i6c1Pv"
      },
      "source": [
        "###2.1.2. Feladat\n",
        "a) Készíts egy szimulációt, amelyben a 100-szor veszel random mintát a populációból és független mintás t-próbát végzel a mintán. 100-ból hányszor kapsz szignifikáns eredményt? \n",
        "\n",
        "b) Mi történik, ha többször végzed el ezt a szimulációt (100 teszt)? 100 tesztből átlagosan mennyi lesz szignifikáns, ha 10 szimulációt végzel? \n",
        "\n",
        "c) Változtasd meg a különbség mértékét a populációk között!\n",
        "Hogyan változik a szimulációk eredménye?"
      ]
    },
    {
      "cell_type": "code",
      "metadata": {
        "id": "w-I1uvXRd1jo",
        "cellView": "form"
      },
      "source": [
        "#@title\n",
        "# a) emlékezzz, hogy erre a kérdésre már csináltunk egy funkciót!\n",
        "t_vals, p_vals = ????"
      ],
      "execution_count": null,
      "outputs": []
    },
    {
      "cell_type": "code",
      "metadata": {
        "id": "fY56OaW-gt3L"
      },
      "source": [
        "# b)"
      ],
      "execution_count": null,
      "outputs": []
    },
    {
      "cell_type": "code",
      "metadata": {
        "id": "FAWzabHVlKl3"
      },
      "source": [
        "# c)"
      ],
      "execution_count": null,
      "outputs": []
    },
    {
      "cell_type": "markdown",
      "metadata": {
        "id": "WGFXxebVPXSQ"
      },
      "source": [
        "##2.2: Ha a populációk az átlagukban különböznek, és a szórásuk is különbözik:"
      ]
    },
    {
      "cell_type": "code",
      "metadata": {
        "id": "pk2C4mUIlRTm"
      },
      "source": [
        "population_size = 5000 # elemszám\n",
        "population_mean = 100 # populációk összevont átlaga\n",
        "deviation_A = 15 # szórás az A populációban\n",
        "devaition_B = deviation_A * 4 # szórás a B populációban\n",
        "population_mean_difference = deviation # összevont átlagtól való eltérés\n",
        "\n",
        "A = np.random.normal(population_mean-population_mean_difference, deviation_A, size=population_size)\n",
        "B = np.random.normal(population_mean+population_mean_difference, devaition_B, size=population_size)"
      ],
      "execution_count": null,
      "outputs": []
    },
    {
      "cell_type": "code",
      "metadata": {
        "id": "0zzwt3D6MWdQ"
      },
      "source": [
        "# nézzük meg, hogyan néz ki az eloszlás a két mintában\n",
        "figure, axs = plt.subplots(1,3, sharex=True, sharey=True)\n",
        "axs[0].hist(A, color='r')\n",
        "axs[0].set_title('populáció: A')\n",
        "axs[1].hist(B, color='b')\n",
        "axs[1].set_title('populáció: B')\n",
        "axs[2].hist(A, color='r', alpha=0.7)\n",
        "axs[2].hist(B, color='b', alpha=0.7)\n",
        "axs[2].set_title('populáció: A és B')\n",
        "for ax in axs:\n",
        "  ax.set_xlabel('Sebesség (km/h)')\n",
        "  ax.set_ylabel('Gyakoriság')\n",
        "plt.show()"
      ],
      "execution_count": null,
      "outputs": []
    },
    {
      "cell_type": "code",
      "metadata": {
        "id": "jA6jdC5YepGv"
      },
      "source": [
        "# határozzuk meg a minta elemszámát\n",
        "sample_size = 16\n",
        "# válasszunk ki random tagokat a két populációból (egy tagot csak egyszer választunk be)\n",
        "a_sample = np.random.choice(A,sample_size, replace=False)\n",
        "b_sample = np.random.choice(B,sample_size, replace=False)"
      ],
      "execution_count": null,
      "outputs": []
    },
    {
      "cell_type": "markdown",
      "metadata": {
        "id": "YCn2J-t5e2x8"
      },
      "source": [
        "###2.2.1 Feladat\n",
        "Ábrázold a minták eloszlását hisztogramon."
      ]
    },
    {
      "cell_type": "code",
      "metadata": {
        "id": "pJAtr_b9etTD"
      },
      "source": [
        ""
      ],
      "execution_count": null,
      "outputs": []
    },
    {
      "cell_type": "code",
      "metadata": {
        "id": "xl8Q3HtKPvxL"
      },
      "source": [
        "# ábrázoljuk, hogy a minta egyes pontjai hol helyezkednek el a hisztogram x tengelyén\n",
        "# azaz a repülési sebesség mely értékét veszik fel, és ez hogyan viszonyul az eloszláshoz a \n",
        "# populációban\n",
        "figure, axs = plt.subplots(1,3, sharex=True, sharey=True)\n",
        "\n",
        "# figyelem! itt a minta pontjainak y értékének nincs értelme! csak az \n",
        "# ábrázolás miatt van rá szükség\n",
        "sample_y_val = np.random.normal(population_size/5, population_size/50, b_sample.shape)\n",
        "axs[0].hist(A, color='r')\n",
        "axs[0].plot(a_sample, sample_y_val, 'go')\n",
        "axs[0].set_title('populáció: A')\n",
        "axs[1].hist(B, color='b')\n",
        "axs[1].plot(b_sample, sample_y_val, 'yo')\n",
        "axs[1].set_title('populáció: B')\n",
        "axs[2].hist(B, color='b', alpha=0.7)\n",
        "axs[2].hist(A, color='r', alpha=0.7)\n",
        "axs[2].plot(a_sample, sample_y_val, 'go')\n",
        "axs[2].plot(b_sample, sample_y_val, 'yo')\n",
        "axs[2].set_title('populáció: A és B')\n",
        "for ax in axs:\n",
        "  ax.set_xlabel('Sebesség (km/h)')\n",
        "  ax.set_ylabel('Gyakoriság')\n",
        "plt.show()"
      ],
      "execution_count": null,
      "outputs": []
    },
    {
      "cell_type": "markdown",
      "metadata": {
        "id": "rgLKxF0KfQlQ"
      },
      "source": [
        "###2.2.2. Feladat \n",
        "Végezz el a fenti mintán egy független mintás t-róbát! Érvényes ez az eredmény?\n",
        "(Teljesülnek a t-próba követelményei?)"
      ]
    },
    {
      "cell_type": "code",
      "metadata": {
        "id": "oRNFyqkrfOhR"
      },
      "source": [
        "t_val, p_val = ????\n",
        "print('A független mintás t-próba eredménye:\\n\\n t-érték: {}\\t p-érték: {:f} '.format(t_val, p_val))"
      ],
      "execution_count": null,
      "outputs": []
    },
    {
      "cell_type": "markdown",
      "metadata": {
        "id": "ABpbZe_Zmc02"
      },
      "source": [
        "###2.2.3. Feladat\n",
        "a) Készíts egy szimulációt, amelyben a 100-szor veszel random mintát a populációból és független mintás t-próbát végzel a mintán. 100-ból hányszor kapsz szignifikáns eredményt? \n",
        "\n",
        "b) Mi történik, ha többször végzed el ezt a szimulációt (100 teszt)? 100 tesztből átlagosan mennyi lesz szignifikáns, ha 10 szimulációt végzel? \n",
        "\n",
        "c) Változtasd meg a különbség mértékét a populációk között!\n",
        "Hogyan változik a szimulációk eredménye?"
      ]
    },
    {
      "cell_type": "code",
      "metadata": {
        "id": "sbw9ZlM0P99d"
      },
      "source": [
        ""
      ],
      "execution_count": null,
      "outputs": []
    }
  ]
}