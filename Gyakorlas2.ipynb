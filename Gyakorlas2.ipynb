{
  "nbformat": 4,
  "nbformat_minor": 0,
  "metadata": {
    "colab": {
      "name": "Gyakorlas2.ipynb",
      "provenance": [],
      "collapsed_sections": [],
      "authorship_tag": "ABX9TyPxxmpme/DhXwFYNSX717uX",
      "include_colab_link": true
    },
    "kernelspec": {
      "name": "python3",
      "display_name": "Python 3"
    }
  },
  "cells": [
    {
      "cell_type": "markdown",
      "metadata": {
        "id": "view-in-github",
        "colab_type": "text"
      },
      "source": [
        "<a href=\"https://colab.research.google.com/github/zs-nemecz/ExperimentalMethodsClass/blob/master/Gyakorlas2.ipynb\" target=\"_parent\"><img src=\"https://colab.research.google.com/assets/colab-badge.svg\" alt=\"Open In Colab\"/></a>"
      ]
    },
    {
      "cell_type": "code",
      "metadata": {
        "id": "QzqoYakPMxk-"
      },
      "source": [
        "# Könyvtárak és modulok impoortálása\n",
        "import numpy as np # adatgenerálás, adattömbök\n",
        "import scipy.stats as sp # statisztika\n",
        "import matplotlib.pyplot as plt # ábrák\n",
        "import math # matematikai funkciók, pl. gyökvonás\n",
        "np.random.seed(78956)"
      ],
      "execution_count": null,
      "outputs": []
    },
    {
      "cell_type": "markdown",
      "metadata": {
        "id": "VBEal8N3NFni"
      },
      "source": [
        "#1. feladat - Átlag funkció\n",
        "## Készíts egy funkciót, amelynek bemenete egy lista, és a kimenete a lista átlaga"
      ]
    },
    {
      "cell_type": "code",
      "metadata": {
        "id": "ES3Y8xIdM9jS"
      },
      "source": [
        "# definiáljuk a funkció nevét, és a bemenetet\n",
        "def calculate_average(a):\n",
        "  # csinálj egy sum nevű változót, amelyben az elemek összegét tároljuk majd\n",
        "  # kezdetben a sum változó értéke 0 (mert még nem adtuk össze az elemeket)\n",
        "  ???\n",
        "  # csinálj egy n_elements nevű változót, amelyben az elemek számát tároljuk\n",
        "  # melyik funkcióval kapjuk meg az elemek számát?\n",
        "  ???\n",
        "  # egy for loop-ban végig megyünk az elemeken, és összeadjuk őket\n",
        "  for i in a:\n",
        "    sum = ??? + sum\n",
        "  \n",
        "  # miután összeadtuk az elemeket, kiszámoljuk az átlagot\n",
        "  average = ????\n",
        "  # az átlagggal térünk vissza\n",
        "  return average"
      ],
      "execution_count": null,
      "outputs": []
    },
    {
      "cell_type": "markdown",
      "metadata": {
        "id": "eo1FWjeKP7mZ"
      },
      "source": [
        "## Teszteld a funkciót különböző esetekkel"
      ]
    },
    {
      "cell_type": "code",
      "metadata": {
        "id": "Nd5mmqVBOLHu"
      },
      "source": [
        "my_list = [1,1,1,1,1]\n",
        "atlag = calculate_average(my_list)\n",
        "print(atlag)"
      ],
      "execution_count": null,
      "outputs": []
    },
    {
      "cell_type": "code",
      "metadata": {
        "id": "oe50J6BxOZQW"
      },
      "source": [
        "my_list = [3,3,3,3,5,5,5,5]\n",
        "atlag = calculate_average(my_list)\n",
        "print(atlag)"
      ],
      "execution_count": null,
      "outputs": []
    },
    {
      "cell_type": "code",
      "metadata": {
        "id": "OwG9POxnQTmo"
      },
      "source": [
        "my_list = [1,2,3,4,5]\n",
        "atlag = calculate_average(my_list)\n",
        "print(atlag)"
      ],
      "execution_count": null,
      "outputs": []
    },
    {
      "cell_type": "code",
      "metadata": {
        "id": "ZEZSiAawRcem"
      },
      "source": [
        "my_list = 1\n",
        "average = calculate_average(my_list)\n",
        "print(atlag)\n",
        "#mit tapasztalsz? hogyan lehetne jobbá tenni a funkciót? (nem kell implementálni)"
      ],
      "execution_count": null,
      "outputs": []
    },
    {
      "cell_type": "markdown",
      "metadata": {
        "id": "9HEc-WFgQlgr"
      },
      "source": [
        "#2. feladat: Medián funkció\n",
        "## Készíts egy funkciót, amely megtalálja a mediánt a listában."
      ]
    },
    {
      "cell_type": "code",
      "metadata": {
        "id": "78Ru_xAMSC_O"
      },
      "source": [
        "# definiáljuk a funkció nevét, és a bemenetet\n",
        "def find_median(a):\n",
        "  # először sorba kell rendeznem a listámat\n",
        "  ???\n",
        "\n",
        "  # csinálj egy n_elements nevű változót, amelyben az elemek számát tároljuk\n",
        "  ???\n",
        "  # tudnom kell azt is, hogy hol van pontosan a lista fele\n",
        "  # ezt az értéket később index-ként használom majd, hogy kinyerjem a középső értéket\n",
        "  # hogyan kapom meg a megfelelő értéket, ha az elemszám nem osztható 2-vel?\n",
        "  middle = ????\n",
        "\n",
        "  # két esetet kell lefednünk: ha a lista elemszáma páros, és ha páratlan\n",
        "  # hogyan ellenőrizhetem ezt?\n",
        "  if n_elements ???:\n",
        "    # ha az elemszám páros, akkor a középső két érték átlagát veszem\n",
        "    # először meghatározom az értékeket a middle változó segítségével\n",
        "    val1 = ??? #emlékezz, hogy a Python 0-nál kezdi az elemek számlálását\n",
        "    val2 = ???\n",
        "    # majd összeadom őket és elosztom 2-vel\n",
        "    median = ???\n",
        "  else:\n",
        "    # ha az elemszám páratlan, akkor egyszerűen a középső elemet veszem\n",
        "    median = ???\n",
        "\n",
        "  return median"
      ],
      "execution_count": null,
      "outputs": []
    },
    {
      "cell_type": "code",
      "metadata": {
        "id": "uWglJj24UyeS"
      },
      "source": [
        "my_list = [0,1,2,3,4]\n",
        "find_median(my_list)"
      ],
      "execution_count": null,
      "outputs": []
    },
    {
      "cell_type": "code",
      "metadata": {
        "id": "60QNVzaXV1o6"
      },
      "source": [
        "my_list = [2,2,2,3,3,3]\n",
        "find_median(my_list)"
      ],
      "execution_count": null,
      "outputs": []
    },
    {
      "cell_type": "code",
      "metadata": {
        "id": "jSfuPAWYUzFn"
      },
      "source": [
        "my_list = [3,1,0,0,0,0,0]\n",
        "find_median(my_list)"
      ],
      "execution_count": null,
      "outputs": []
    },
    {
      "cell_type": "code",
      "metadata": {
        "id": "ybAf-BilWZuK"
      },
      "source": [
        "my_list = [1,100,2,200]\n",
        "find_median(my_list)"
      ],
      "execution_count": null,
      "outputs": []
    },
    {
      "cell_type": "code",
      "metadata": {
        "id": "s5qvhEOHWJgr"
      },
      "source": [
        "my_list = 1\n",
        "find_median(my_list)\n",
        "#mit tapasztalsz? hogyan lehetne jobbá tenni a funkciót? (nem kell implementálni)"
      ],
      "execution_count": null,
      "outputs": []
    },
    {
      "cell_type": "markdown",
      "metadata": {
        "id": "LlB4miKaZmUp"
      },
      "source": [
        "#3. feladat - Szórás funkció\n",
        "## Készíts egy funkciót, amely kiszámítja a szórást a listában.\n",
        "\n",
        "A szórás képlete: ![alt text](https://tinyurl.com/sk63h4g)\n",
        "\n",
        "Azaz \n",
        "\n",
        "\n",
        "1.   Minden elemből kivonjuk az átlagot, és a kapott értéket négyzetre emeljük. (hatványozás két csillaggal, tehát 3**2=9)\n",
        "2.   Ezeket a négyzetre emelt különbségeket összeadjuk. \n",
        "3.   A különbségek összegét elosztjuk az elemek száma - 1-gyel. \n",
        "4.   Ebből az összegből gyököt vonunk. (math.sqrt() funkció)\n",
        "\n"
      ]
    },
    {
      "cell_type": "code",
      "metadata": {
        "id": "BSEWG1mLZxsE"
      },
      "source": [
        "# itt definiáld a funkciót\n",
        "def calculate_std(a):\n",
        "\n",
        "\n",
        "\n",
        "\n",
        "  return std"
      ],
      "execution_count": null,
      "outputs": []
    },
    {
      "cell_type": "code",
      "metadata": {
        "id": "h5CfVvsnb2AQ"
      },
      "source": [
        "# ellenőrizd, hogy ugyanazt az értéket kapod-e, mint a numpy beépített funkciójával\n",
        "my_list = [2,6,78,12,34,2,3,4,2,67]\n",
        "# float értéket nem szabad egyenlőséggel vizsgálni (mert a float pontatlan érték), ezért csak írassuk ki az értéket\n",
        "print(calculate_std(my_list))\n",
        "print(np.std(my_list, ddof=1)) # ddof=1 azt jelenti, hogy a számításban (N-1) -et használ az alapértelmezett (N-0) helyett"
      ],
      "execution_count": null,
      "outputs": []
    },
    {
      "cell_type": "markdown",
      "metadata": {
        "id": "HcAC9RTmgjTA"
      },
      "source": [
        "#4. feladat - Két csoport adatainak ábrázolása és statisztikai próba elvégzése\n",
        "Adott két csoport, pszichológia és matematika hallgató egyetemisták.\n",
        "A csoportok napi közösségi médiával eltöltött idejét vizsgáljuk, az időt percben határozzuk meg.\n",
        "\n",
        "A) feladat: ábrázold a lehető legtöbb féleképpen a csoportokat.\n",
        "Az ábrákon legyen megfelelő jelzés (pl. a tengelyen).\n",
        "\n",
        "B) feladat: teszteld statisztikai próbával, van-e különbség a csoportok között\n",
        "\n",
        "C) A pszichológia csoportból arról is van adatunk, havonta hányszor mennek szabadidejükben társas közegbe a diákok. Korrelációval vizsgáld az összefüggést a közösségi média használat és a társas találkozások között. (a funkció: np.corrcoef(x, y) )\n",
        "\n",
        "Ábrázold az összefüggést pontdiagrammon.\n"
      ]
    },
    {
      "cell_type": "code",
      "metadata": {
        "id": "QAfLIFH-hcpl"
      },
      "source": [
        "# a minták, amik a közösségi média használattal eltöltött időt tartalmazzák\n",
        "sample_psychology = np.random.normal(46, 11, 60)\n",
        "sample_math = np.random.normal(52, 13, 60)"
      ],
      "execution_count": null,
      "outputs": []
    },
    {
      "cell_type": "code",
      "metadata": {
        "id": "koTdZal0j9p-"
      },
      "source": [
        "# C) feladat \n",
        "# a havi találkozások száma diákonként az n_meetings változóban van\n",
        "# az értékek sorrendben vannak, tehát az n_meetings első élrtéke a sample_psychology első értékéhez tartozik\n",
        "n_meetings = (sample_psychology * np.random.normal(2.1, 0.4333, 60)) // 12"
      ],
      "execution_count": null,
      "outputs": []
    }
  ]
}